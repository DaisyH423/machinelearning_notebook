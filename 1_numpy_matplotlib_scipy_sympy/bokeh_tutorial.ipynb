{
 "cells": [
  {
   "cell_type": "markdown",
   "metadata": {},
   "source": [
    "<div>\n",
    "<a href=\"http://bokeh.pydata.org/\"><img src=\"../images/bokeh-header.png\"></a>\n",
    "</div>\n",
    "\n",
    "# Bokeh 5-minute Overview\n",
    "\n",
    "Bokeh is a Python interactive visualization library that targets modern web browsers for presentation. Its goal is to provide elegant, concise construction of novel graphics in the style of D3.js, and to extend this capability with high-performance interactivity over very large or streaming datasets. Bokeh can help anyone who would like to quickly and easily create interactive plots, dashboards, and data applications."
   ]
  },
  {
   "cell_type": "markdown",
   "metadata": {},
   "source": [
    "## Simple Example\n",
    "\n",
    "Here is a simple first example.  First we'll import the [`figure`](https://bokeh.pydata.org/en/latest/docs/reference/plotting.html#bokeh.plotting.figure.figure) function from [`bokeh.plotting`](https://bokeh.pydata.org/en/latest/docs/user_guide/plotting.html), which will let us create all sorts of interesting plots easily. We also import the `show` and `ouptut_notebook` functions from `bokeh.io` &mdash; these let us display our results inline in the notebook."
   ]
  },
  {
   "cell_type": "code",
   "execution_count": 1,
   "metadata": {},
   "outputs": [],
   "source": [
    "from bokeh.plotting import figure \n",
    "from bokeh.io import output_notebook, show"
   ]
  },
  {
   "cell_type": "markdown",
   "metadata": {},
   "source": [
    "Next, we'll tell Bokeh to display its plots directly into the notebook.\n",
    "This will cause all of the Javascript and data to be embedded directly\n",
    "into the HTML of the notebook itself.\n",
    "(Bokeh can output straight to HTML files, or use a server, which we'll\n",
    "look at later.)"
   ]
  },
  {
   "cell_type": "code",
   "execution_count": 2,
   "metadata": {},
   "outputs": [
    {
     "data": {
      "text/html": [
       "\n",
       "    <div class=\"bk-root\">\n",
       "        <a href=\"https://bokeh.pydata.org\" target=\"_blank\" class=\"bk-logo bk-logo-small bk-logo-notebook\"></a>\n",
       "        <span id=\"8cd0437f-c78b-4d3f-afb8-1b008f84052d\">Loading BokehJS ...</span>\n",
       "    </div>"
      ]
     },
     "metadata": {},
     "output_type": "display_data"
    },
    {
     "data": {
      "application/javascript": [
       "\n",
       "(function(root) {\n",
       "  function now() {\n",
       "    return new Date();\n",
       "  }\n",
       "\n",
       "  var force = true;\n",
       "\n",
       "  if (typeof (root._bokeh_onload_callbacks) === \"undefined\" || force === true) {\n",
       "    root._bokeh_onload_callbacks = [];\n",
       "    root._bokeh_is_loading = undefined;\n",
       "  }\n",
       "\n",
       "  var JS_MIME_TYPE = 'application/javascript';\n",
       "  var HTML_MIME_TYPE = 'text/html';\n",
       "  var EXEC_MIME_TYPE = 'application/vnd.bokehjs_exec.v0+json';\n",
       "  var CLASS_NAME = 'output_bokeh rendered_html';\n",
       "\n",
       "  /**\n",
       "   * Render data to the DOM node\n",
       "   */\n",
       "  function render(props, node) {\n",
       "    var script = document.createElement(\"script\");\n",
       "    node.appendChild(script);\n",
       "  }\n",
       "\n",
       "  /**\n",
       "   * Handle when an output is cleared or removed\n",
       "   */\n",
       "  function handleClearOutput(event, handle) {\n",
       "    var cell = handle.cell;\n",
       "\n",
       "    var id = cell.output_area._bokeh_element_id;\n",
       "    var server_id = cell.output_area._bokeh_server_id;\n",
       "    // Clean up Bokeh references\n",
       "    if (id != null && id in Bokeh.index) {\n",
       "      Bokeh.index[id].model.document.clear();\n",
       "      delete Bokeh.index[id];\n",
       "    }\n",
       "\n",
       "    if (server_id !== undefined) {\n",
       "      // Clean up Bokeh references\n",
       "      var cmd = \"from bokeh.io.state import curstate; print(curstate().uuid_to_server['\" + server_id + \"'].get_sessions()[0].document.roots[0]._id)\";\n",
       "      cell.notebook.kernel.execute(cmd, {\n",
       "        iopub: {\n",
       "          output: function(msg) {\n",
       "            var id = msg.content.text.trim();\n",
       "            if (id in Bokeh.index) {\n",
       "              Bokeh.index[id].model.document.clear();\n",
       "              delete Bokeh.index[id];\n",
       "            }\n",
       "          }\n",
       "        }\n",
       "      });\n",
       "      // Destroy server and session\n",
       "      var cmd = \"import bokeh.io.notebook as ion; ion.destroy_server('\" + server_id + \"')\";\n",
       "      cell.notebook.kernel.execute(cmd);\n",
       "    }\n",
       "  }\n",
       "\n",
       "  /**\n",
       "   * Handle when a new output is added\n",
       "   */\n",
       "  function handleAddOutput(event, handle) {\n",
       "    var output_area = handle.output_area;\n",
       "    var output = handle.output;\n",
       "\n",
       "    // limit handleAddOutput to display_data with EXEC_MIME_TYPE content only\n",
       "    if ((output.output_type != \"display_data\") || (!output.data.hasOwnProperty(EXEC_MIME_TYPE))) {\n",
       "      return\n",
       "    }\n",
       "\n",
       "    var toinsert = output_area.element.find(\".\" + CLASS_NAME.split(' ')[0]);\n",
       "\n",
       "    if (output.metadata[EXEC_MIME_TYPE][\"id\"] !== undefined) {\n",
       "      toinsert[toinsert.length - 1].firstChild.textContent = output.data[JS_MIME_TYPE];\n",
       "      // store reference to embed id on output_area\n",
       "      output_area._bokeh_element_id = output.metadata[EXEC_MIME_TYPE][\"id\"];\n",
       "    }\n",
       "    if (output.metadata[EXEC_MIME_TYPE][\"server_id\"] !== undefined) {\n",
       "      var bk_div = document.createElement(\"div\");\n",
       "      bk_div.innerHTML = output.data[HTML_MIME_TYPE];\n",
       "      var script_attrs = bk_div.children[0].attributes;\n",
       "      for (var i = 0; i < script_attrs.length; i++) {\n",
       "        toinsert[toinsert.length - 1].firstChild.setAttribute(script_attrs[i].name, script_attrs[i].value);\n",
       "      }\n",
       "      // store reference to server id on output_area\n",
       "      output_area._bokeh_server_id = output.metadata[EXEC_MIME_TYPE][\"server_id\"];\n",
       "    }\n",
       "  }\n",
       "\n",
       "  function register_renderer(events, OutputArea) {\n",
       "\n",
       "    function append_mime(data, metadata, element) {\n",
       "      // create a DOM node to render to\n",
       "      var toinsert = this.create_output_subarea(\n",
       "        metadata,\n",
       "        CLASS_NAME,\n",
       "        EXEC_MIME_TYPE\n",
       "      );\n",
       "      this.keyboard_manager.register_events(toinsert);\n",
       "      // Render to node\n",
       "      var props = {data: data, metadata: metadata[EXEC_MIME_TYPE]};\n",
       "      render(props, toinsert[toinsert.length - 1]);\n",
       "      element.append(toinsert);\n",
       "      return toinsert\n",
       "    }\n",
       "\n",
       "    /* Handle when an output is cleared or removed */\n",
       "    events.on('clear_output.CodeCell', handleClearOutput);\n",
       "    events.on('delete.Cell', handleClearOutput);\n",
       "\n",
       "    /* Handle when a new output is added */\n",
       "    events.on('output_added.OutputArea', handleAddOutput);\n",
       "\n",
       "    /**\n",
       "     * Register the mime type and append_mime function with output_area\n",
       "     */\n",
       "    OutputArea.prototype.register_mime_type(EXEC_MIME_TYPE, append_mime, {\n",
       "      /* Is output safe? */\n",
       "      safe: true,\n",
       "      /* Index of renderer in `output_area.display_order` */\n",
       "      index: 0\n",
       "    });\n",
       "  }\n",
       "\n",
       "  // register the mime type if in Jupyter Notebook environment and previously unregistered\n",
       "  if (root.Jupyter !== undefined) {\n",
       "    var events = require('base/js/events');\n",
       "    var OutputArea = require('notebook/js/outputarea').OutputArea;\n",
       "\n",
       "    if (OutputArea.prototype.mime_types().indexOf(EXEC_MIME_TYPE) == -1) {\n",
       "      register_renderer(events, OutputArea);\n",
       "    }\n",
       "  }\n",
       "\n",
       "  \n",
       "  if (typeof (root._bokeh_timeout) === \"undefined\" || force === true) {\n",
       "    root._bokeh_timeout = Date.now() + 5000;\n",
       "    root._bokeh_failed_load = false;\n",
       "  }\n",
       "\n",
       "  var NB_LOAD_WARNING = {'data': {'text/html':\n",
       "     \"<div style='background-color: #fdd'>\\n\"+\n",
       "     \"<p>\\n\"+\n",
       "     \"BokehJS does not appear to have successfully loaded. If loading BokehJS from CDN, this \\n\"+\n",
       "     \"may be due to a slow or bad network connection. Possible fixes:\\n\"+\n",
       "     \"</p>\\n\"+\n",
       "     \"<ul>\\n\"+\n",
       "     \"<li>re-rerun `output_notebook()` to attempt to load from CDN again, or</li>\\n\"+\n",
       "     \"<li>use INLINE resources instead, as so:</li>\\n\"+\n",
       "     \"</ul>\\n\"+\n",
       "     \"<code>\\n\"+\n",
       "     \"from bokeh.resources import INLINE\\n\"+\n",
       "     \"output_notebook(resources=INLINE)\\n\"+\n",
       "     \"</code>\\n\"+\n",
       "     \"</div>\"}};\n",
       "\n",
       "  function display_loaded() {\n",
       "    var el = document.getElementById(\"8cd0437f-c78b-4d3f-afb8-1b008f84052d\");\n",
       "    if (el != null) {\n",
       "      el.textContent = \"BokehJS is loading...\";\n",
       "    }\n",
       "    if (root.Bokeh !== undefined) {\n",
       "      if (el != null) {\n",
       "        el.textContent = \"BokehJS \" + root.Bokeh.version + \" successfully loaded.\";\n",
       "      }\n",
       "    } else if (Date.now() < root._bokeh_timeout) {\n",
       "      setTimeout(display_loaded, 100)\n",
       "    }\n",
       "  }\n",
       "\n",
       "\n",
       "  function run_callbacks() {\n",
       "    try {\n",
       "      root._bokeh_onload_callbacks.forEach(function(callback) { callback() });\n",
       "    }\n",
       "    finally {\n",
       "      delete root._bokeh_onload_callbacks\n",
       "    }\n",
       "    console.info(\"Bokeh: all callbacks have finished\");\n",
       "  }\n",
       "\n",
       "  function load_libs(js_urls, callback) {\n",
       "    root._bokeh_onload_callbacks.push(callback);\n",
       "    if (root._bokeh_is_loading > 0) {\n",
       "      console.log(\"Bokeh: BokehJS is being loaded, scheduling callback at\", now());\n",
       "      return null;\n",
       "    }\n",
       "    if (js_urls == null || js_urls.length === 0) {\n",
       "      run_callbacks();\n",
       "      return null;\n",
       "    }\n",
       "    console.log(\"Bokeh: BokehJS not loaded, scheduling load and callback at\", now());\n",
       "    root._bokeh_is_loading = js_urls.length;\n",
       "    for (var i = 0; i < js_urls.length; i++) {\n",
       "      var url = js_urls[i];\n",
       "      var s = document.createElement('script');\n",
       "      s.src = url;\n",
       "      s.async = false;\n",
       "      s.onreadystatechange = s.onload = function() {\n",
       "        root._bokeh_is_loading--;\n",
       "        if (root._bokeh_is_loading === 0) {\n",
       "          console.log(\"Bokeh: all BokehJS libraries loaded\");\n",
       "          run_callbacks()\n",
       "        }\n",
       "      };\n",
       "      s.onerror = function() {\n",
       "        console.warn(\"failed to load library \" + url);\n",
       "      };\n",
       "      console.log(\"Bokeh: injecting script tag for BokehJS library: \", url);\n",
       "      document.getElementsByTagName(\"head\")[0].appendChild(s);\n",
       "    }\n",
       "  };var element = document.getElementById(\"8cd0437f-c78b-4d3f-afb8-1b008f84052d\");\n",
       "  if (element == null) {\n",
       "    console.log(\"Bokeh: ERROR: autoload.js configured with elementid '8cd0437f-c78b-4d3f-afb8-1b008f84052d' but no matching script tag was found. \")\n",
       "    return false;\n",
       "  }\n",
       "\n",
       "  var js_urls = [\"https://cdn.pydata.org/bokeh/release/bokeh-0.13.0.min.js\", \"https://cdn.pydata.org/bokeh/release/bokeh-widgets-0.13.0.min.js\", \"https://cdn.pydata.org/bokeh/release/bokeh-tables-0.13.0.min.js\", \"https://cdn.pydata.org/bokeh/release/bokeh-gl-0.13.0.min.js\"];\n",
       "\n",
       "  var inline_js = [\n",
       "    function(Bokeh) {\n",
       "      Bokeh.set_log_level(\"info\");\n",
       "    },\n",
       "    \n",
       "    function(Bokeh) {\n",
       "      \n",
       "    },\n",
       "    function(Bokeh) {\n",
       "      console.log(\"Bokeh: injecting CSS: https://cdn.pydata.org/bokeh/release/bokeh-0.13.0.min.css\");\n",
       "      Bokeh.embed.inject_css(\"https://cdn.pydata.org/bokeh/release/bokeh-0.13.0.min.css\");\n",
       "      console.log(\"Bokeh: injecting CSS: https://cdn.pydata.org/bokeh/release/bokeh-widgets-0.13.0.min.css\");\n",
       "      Bokeh.embed.inject_css(\"https://cdn.pydata.org/bokeh/release/bokeh-widgets-0.13.0.min.css\");\n",
       "      console.log(\"Bokeh: injecting CSS: https://cdn.pydata.org/bokeh/release/bokeh-tables-0.13.0.min.css\");\n",
       "      Bokeh.embed.inject_css(\"https://cdn.pydata.org/bokeh/release/bokeh-tables-0.13.0.min.css\");\n",
       "    }\n",
       "  ];\n",
       "\n",
       "  function run_inline_js() {\n",
       "    \n",
       "    if ((root.Bokeh !== undefined) || (force === true)) {\n",
       "      for (var i = 0; i < inline_js.length; i++) {\n",
       "        inline_js[i].call(root, root.Bokeh);\n",
       "      }if (force === true) {\n",
       "        display_loaded();\n",
       "      }} else if (Date.now() < root._bokeh_timeout) {\n",
       "      setTimeout(run_inline_js, 100);\n",
       "    } else if (!root._bokeh_failed_load) {\n",
       "      console.log(\"Bokeh: BokehJS failed to load within specified timeout.\");\n",
       "      root._bokeh_failed_load = true;\n",
       "    } else if (force !== true) {\n",
       "      var cell = $(document.getElementById(\"8cd0437f-c78b-4d3f-afb8-1b008f84052d\")).parents('.cell').data().cell;\n",
       "      cell.output_area.append_execute_result(NB_LOAD_WARNING)\n",
       "    }\n",
       "\n",
       "  }\n",
       "\n",
       "  if (root._bokeh_is_loading === 0) {\n",
       "    console.log(\"Bokeh: BokehJS loaded, going straight to plotting\");\n",
       "    run_inline_js();\n",
       "  } else {\n",
       "    load_libs(js_urls, function() {\n",
       "      console.log(\"Bokeh: BokehJS plotting callback run at\", now());\n",
       "      run_inline_js();\n",
       "    });\n",
       "  }\n",
       "}(window));"
      ],
      "application/vnd.bokehjs_load.v0+json": "\n(function(root) {\n  function now() {\n    return new Date();\n  }\n\n  var force = true;\n\n  if (typeof (root._bokeh_onload_callbacks) === \"undefined\" || force === true) {\n    root._bokeh_onload_callbacks = [];\n    root._bokeh_is_loading = undefined;\n  }\n\n  \n\n  \n  if (typeof (root._bokeh_timeout) === \"undefined\" || force === true) {\n    root._bokeh_timeout = Date.now() + 5000;\n    root._bokeh_failed_load = false;\n  }\n\n  var NB_LOAD_WARNING = {'data': {'text/html':\n     \"<div style='background-color: #fdd'>\\n\"+\n     \"<p>\\n\"+\n     \"BokehJS does not appear to have successfully loaded. If loading BokehJS from CDN, this \\n\"+\n     \"may be due to a slow or bad network connection. Possible fixes:\\n\"+\n     \"</p>\\n\"+\n     \"<ul>\\n\"+\n     \"<li>re-rerun `output_notebook()` to attempt to load from CDN again, or</li>\\n\"+\n     \"<li>use INLINE resources instead, as so:</li>\\n\"+\n     \"</ul>\\n\"+\n     \"<code>\\n\"+\n     \"from bokeh.resources import INLINE\\n\"+\n     \"output_notebook(resources=INLINE)\\n\"+\n     \"</code>\\n\"+\n     \"</div>\"}};\n\n  function display_loaded() {\n    var el = document.getElementById(\"8cd0437f-c78b-4d3f-afb8-1b008f84052d\");\n    if (el != null) {\n      el.textContent = \"BokehJS is loading...\";\n    }\n    if (root.Bokeh !== undefined) {\n      if (el != null) {\n        el.textContent = \"BokehJS \" + root.Bokeh.version + \" successfully loaded.\";\n      }\n    } else if (Date.now() < root._bokeh_timeout) {\n      setTimeout(display_loaded, 100)\n    }\n  }\n\n\n  function run_callbacks() {\n    try {\n      root._bokeh_onload_callbacks.forEach(function(callback) { callback() });\n    }\n    finally {\n      delete root._bokeh_onload_callbacks\n    }\n    console.info(\"Bokeh: all callbacks have finished\");\n  }\n\n  function load_libs(js_urls, callback) {\n    root._bokeh_onload_callbacks.push(callback);\n    if (root._bokeh_is_loading > 0) {\n      console.log(\"Bokeh: BokehJS is being loaded, scheduling callback at\", now());\n      return null;\n    }\n    if (js_urls == null || js_urls.length === 0) {\n      run_callbacks();\n      return null;\n    }\n    console.log(\"Bokeh: BokehJS not loaded, scheduling load and callback at\", now());\n    root._bokeh_is_loading = js_urls.length;\n    for (var i = 0; i < js_urls.length; i++) {\n      var url = js_urls[i];\n      var s = document.createElement('script');\n      s.src = url;\n      s.async = false;\n      s.onreadystatechange = s.onload = function() {\n        root._bokeh_is_loading--;\n        if (root._bokeh_is_loading === 0) {\n          console.log(\"Bokeh: all BokehJS libraries loaded\");\n          run_callbacks()\n        }\n      };\n      s.onerror = function() {\n        console.warn(\"failed to load library \" + url);\n      };\n      console.log(\"Bokeh: injecting script tag for BokehJS library: \", url);\n      document.getElementsByTagName(\"head\")[0].appendChild(s);\n    }\n  };var element = document.getElementById(\"8cd0437f-c78b-4d3f-afb8-1b008f84052d\");\n  if (element == null) {\n    console.log(\"Bokeh: ERROR: autoload.js configured with elementid '8cd0437f-c78b-4d3f-afb8-1b008f84052d' but no matching script tag was found. \")\n    return false;\n  }\n\n  var js_urls = [\"https://cdn.pydata.org/bokeh/release/bokeh-0.13.0.min.js\", \"https://cdn.pydata.org/bokeh/release/bokeh-widgets-0.13.0.min.js\", \"https://cdn.pydata.org/bokeh/release/bokeh-tables-0.13.0.min.js\", \"https://cdn.pydata.org/bokeh/release/bokeh-gl-0.13.0.min.js\"];\n\n  var inline_js = [\n    function(Bokeh) {\n      Bokeh.set_log_level(\"info\");\n    },\n    \n    function(Bokeh) {\n      \n    },\n    function(Bokeh) {\n      console.log(\"Bokeh: injecting CSS: https://cdn.pydata.org/bokeh/release/bokeh-0.13.0.min.css\");\n      Bokeh.embed.inject_css(\"https://cdn.pydata.org/bokeh/release/bokeh-0.13.0.min.css\");\n      console.log(\"Bokeh: injecting CSS: https://cdn.pydata.org/bokeh/release/bokeh-widgets-0.13.0.min.css\");\n      Bokeh.embed.inject_css(\"https://cdn.pydata.org/bokeh/release/bokeh-widgets-0.13.0.min.css\");\n      console.log(\"Bokeh: injecting CSS: https://cdn.pydata.org/bokeh/release/bokeh-tables-0.13.0.min.css\");\n      Bokeh.embed.inject_css(\"https://cdn.pydata.org/bokeh/release/bokeh-tables-0.13.0.min.css\");\n    }\n  ];\n\n  function run_inline_js() {\n    \n    if ((root.Bokeh !== undefined) || (force === true)) {\n      for (var i = 0; i < inline_js.length; i++) {\n        inline_js[i].call(root, root.Bokeh);\n      }if (force === true) {\n        display_loaded();\n      }} else if (Date.now() < root._bokeh_timeout) {\n      setTimeout(run_inline_js, 100);\n    } else if (!root._bokeh_failed_load) {\n      console.log(\"Bokeh: BokehJS failed to load within specified timeout.\");\n      root._bokeh_failed_load = true;\n    } else if (force !== true) {\n      var cell = $(document.getElementById(\"8cd0437f-c78b-4d3f-afb8-1b008f84052d\")).parents('.cell').data().cell;\n      cell.output_area.append_execute_result(NB_LOAD_WARNING)\n    }\n\n  }\n\n  if (root._bokeh_is_loading === 0) {\n    console.log(\"Bokeh: BokehJS loaded, going straight to plotting\");\n    run_inline_js();\n  } else {\n    load_libs(js_urls, function() {\n      console.log(\"Bokeh: BokehJS plotting callback run at\", now());\n      run_inline_js();\n    });\n  }\n}(window));"
     },
     "metadata": {},
     "output_type": "display_data"
    }
   ],
   "source": [
    "output_notebook()"
   ]
  },
  {
   "cell_type": "markdown",
   "metadata": {},
   "source": [
    "Next, we'll import NumPy and create some simple data."
   ]
  },
  {
   "cell_type": "code",
   "execution_count": 3,
   "metadata": {},
   "outputs": [],
   "source": [
    "from numpy import cos, linspace\n",
    "x = linspace(-6, 6, 100)\n",
    "y = cos(x)"
   ]
  },
  {
   "cell_type": "markdown",
   "metadata": {},
   "source": [
    "Now we'll call Bokeh's `figure` functtion to create a plot `p`. Then we call the `circle()` method of the plot to render a red circle at each of the points in x and y.\n",
    "\n",
    "We can immediately interact with the plot:\n",
    "\n",
    "  * click-drag will pan the plot around.\n",
    "  * mousewheel will zoom in and out (after enabling in the toolbar)\n",
    "  \n",
    "The toolbar below is the default one that is available for all plots. It can be configured further via the `tools` keyword argument."
   ]
  },
  {
   "cell_type": "code",
   "execution_count": 4,
   "metadata": {},
   "outputs": [
    {
     "data": {
      "text/html": [
       "\n",
       "\n",
       "\n",
       "\n",
       "\n",
       "\n",
       "  <div class=\"bk-root\" id=\"94f2184c-4368-4600-a460-84eec19a94b9\"></div>\n"
      ]
     },
     "metadata": {},
     "output_type": "display_data"
    },
    {
     "data": {
      "application/javascript": [
       "(function(root) {\n",
       "  function embed_document(root) {\n",
       "    \n",
       "  var docs_json = {\"aeec4543-46cd-4f87-acc1-ea2ed28b7ada\":{\"roots\":{\"references\":[{\"attributes\":{},\"id\":\"19a960da-3ecb-49d2-8914-05175c249c33\",\"type\":\"SaveTool\"},{\"attributes\":{\"callback\":null},\"id\":\"998a2381-ee7b-46a7-b853-09d40d089995\",\"type\":\"DataRange1d\"},{\"attributes\":{},\"id\":\"53392765-3d99-45d9-97d1-140fc6c5753f\",\"type\":\"BasicTickFormatter\"},{\"attributes\":{\"active_drag\":\"auto\",\"active_inspect\":\"auto\",\"active_multi\":null,\"active_scroll\":\"auto\",\"active_tap\":\"auto\",\"tools\":[{\"id\":\"6c55e725-22bb-438e-962c-a0db2ba7d35f\",\"type\":\"PanTool\"},{\"id\":\"f4c3e2cd-6db9-4969-a779-0bda76a138fa\",\"type\":\"WheelZoomTool\"},{\"id\":\"0fd28e7e-70b7-4324-91df-daac982d3e89\",\"type\":\"BoxZoomTool\"},{\"id\":\"19a960da-3ecb-49d2-8914-05175c249c33\",\"type\":\"SaveTool\"},{\"id\":\"6f3ae219-e17f-4090-bc5f-58f57871982b\",\"type\":\"ResetTool\"},{\"id\":\"ac9ec22e-099e-4580-a1f4-acf92de985e2\",\"type\":\"HelpTool\"}]},\"id\":\"53571765-f31b-4722-ac3d-640d3112b764\",\"type\":\"Toolbar\"},{\"attributes\":{\"dimension\":1,\"plot\":{\"id\":\"b11d1b46-0b08-44c8-bb16-8304513e3d15\",\"subtype\":\"Figure\",\"type\":\"Plot\"},\"ticker\":{\"id\":\"abcd0a1b-9994-4fed-9ea3-4de28a6854db\",\"type\":\"BasicTicker\"}},\"id\":\"b2505cf9-c6de-47f2-977e-2c2517af633c\",\"type\":\"Grid\"},{\"attributes\":{\"plot\":null,\"text\":\"\"},\"id\":\"c8374353-3064-42eb-b0f9-1f316dcf5dd9\",\"type\":\"Title\"},{\"attributes\":{},\"id\":\"6f3ae219-e17f-4090-bc5f-58f57871982b\",\"type\":\"ResetTool\"},{\"attributes\":{},\"id\":\"c5a3f469-ba65-4d45-958a-37fdb58305cc\",\"type\":\"BasicTickFormatter\"},{\"attributes\":{\"callback\":null},\"id\":\"79fb852e-118b-4e78-a208-3f774ed8dcc6\",\"type\":\"DataRange1d\"},{\"attributes\":{},\"id\":\"6c55e725-22bb-438e-962c-a0db2ba7d35f\",\"type\":\"PanTool\"},{\"attributes\":{},\"id\":\"cc7498d8-81ed-4e36-a3bc-2d259b9571a4\",\"type\":\"UnionRenderers\"},{\"attributes\":{},\"id\":\"874619d4-301d-4963-96a5-84de42cdf4da\",\"type\":\"LinearScale\"},{\"attributes\":{\"plot\":{\"id\":\"b11d1b46-0b08-44c8-bb16-8304513e3d15\",\"subtype\":\"Figure\",\"type\":\"Plot\"},\"ticker\":{\"id\":\"57c20150-54f5-4d18-8aa3-c2eae2efad00\",\"type\":\"BasicTicker\"}},\"id\":\"b526a813-5c7d-4fbf-a459-1ed59fcd7c69\",\"type\":\"Grid\"},{\"attributes\":{},\"id\":\"f4c3e2cd-6db9-4969-a779-0bda76a138fa\",\"type\":\"WheelZoomTool\"},{\"attributes\":{\"formatter\":{\"id\":\"53392765-3d99-45d9-97d1-140fc6c5753f\",\"type\":\"BasicTickFormatter\"},\"plot\":{\"id\":\"b11d1b46-0b08-44c8-bb16-8304513e3d15\",\"subtype\":\"Figure\",\"type\":\"Plot\"},\"ticker\":{\"id\":\"57c20150-54f5-4d18-8aa3-c2eae2efad00\",\"type\":\"BasicTicker\"}},\"id\":\"6d2d1f76-0b1f-4c09-8091-c8f58da65e88\",\"type\":\"LinearAxis\"},{\"attributes\":{},\"id\":\"ac9ec22e-099e-4580-a1f4-acf92de985e2\",\"type\":\"HelpTool\"},{\"attributes\":{\"below\":[{\"id\":\"6d2d1f76-0b1f-4c09-8091-c8f58da65e88\",\"type\":\"LinearAxis\"}],\"left\":[{\"id\":\"78750af8-5fe4-4cd7-b68b-4b31ae1ceb65\",\"type\":\"LinearAxis\"}],\"plot_height\":500,\"plot_width\":500,\"renderers\":[{\"id\":\"6d2d1f76-0b1f-4c09-8091-c8f58da65e88\",\"type\":\"LinearAxis\"},{\"id\":\"b526a813-5c7d-4fbf-a459-1ed59fcd7c69\",\"type\":\"Grid\"},{\"id\":\"78750af8-5fe4-4cd7-b68b-4b31ae1ceb65\",\"type\":\"LinearAxis\"},{\"id\":\"b2505cf9-c6de-47f2-977e-2c2517af633c\",\"type\":\"Grid\"},{\"id\":\"1d120b68-24b8-4860-9bfc-f1afaa2022bd\",\"type\":\"BoxAnnotation\"},{\"id\":\"3a34f9aa-3e96-4184-9572-c1d9738fd25b\",\"type\":\"GlyphRenderer\"}],\"title\":{\"id\":\"c8374353-3064-42eb-b0f9-1f316dcf5dd9\",\"type\":\"Title\"},\"toolbar\":{\"id\":\"53571765-f31b-4722-ac3d-640d3112b764\",\"type\":\"Toolbar\"},\"x_range\":{\"id\":\"998a2381-ee7b-46a7-b853-09d40d089995\",\"type\":\"DataRange1d\"},\"x_scale\":{\"id\":\"8fe96ad8-d60d-4a19-ac19-122ea130038d\",\"type\":\"LinearScale\"},\"y_range\":{\"id\":\"79fb852e-118b-4e78-a208-3f774ed8dcc6\",\"type\":\"DataRange1d\"},\"y_scale\":{\"id\":\"874619d4-301d-4963-96a5-84de42cdf4da\",\"type\":\"LinearScale\"}},\"id\":\"b11d1b46-0b08-44c8-bb16-8304513e3d15\",\"subtype\":\"Figure\",\"type\":\"Plot\"},{\"attributes\":{\"fill_alpha\":{\"value\":0.5},\"fill_color\":{\"value\":\"firebrick\"},\"line_alpha\":{\"value\":0.5},\"line_color\":{\"value\":\"firebrick\"},\"size\":{\"units\":\"screen\",\"value\":7},\"x\":{\"field\":\"x\"},\"y\":{\"field\":\"y\"}},\"id\":\"8cc9453d-fde9-4ab3-8464-0806c9be544d\",\"type\":\"Circle\"},{\"attributes\":{},\"id\":\"abcd0a1b-9994-4fed-9ea3-4de28a6854db\",\"type\":\"BasicTicker\"},{\"attributes\":{\"source\":{\"id\":\"911af4b9-51ba-45de-89ad-8cf208411bb5\",\"type\":\"ColumnDataSource\"}},\"id\":\"7f0c4e1d-90fb-4029-b77a-b4600ebea1de\",\"type\":\"CDSView\"},{\"attributes\":{\"overlay\":{\"id\":\"1d120b68-24b8-4860-9bfc-f1afaa2022bd\",\"type\":\"BoxAnnotation\"}},\"id\":\"0fd28e7e-70b7-4324-91df-daac982d3e89\",\"type\":\"BoxZoomTool\"},{\"attributes\":{\"callback\":null,\"data\":{\"x\":{\"__ndarray__\":\"AAAAAAAAGMCEDz744IMXwAgffPDBBxfAjC666KKLFsAQPvjggw8WwJNNNtlkkxXAF1100UUXFcCbbLLJJpsUwB988MEHHxTAo4suuuiiE8Anm2yyySYTwKqqqqqqqhLALrrooosuEsCyySabbLIRwDbZZJNNNhHAuuiiiy66EMA++OCDDz4QwIQPPvjggw/AjC666KKLDsCTTTbZZJMNwJtssskmmwzAo4suuuiiC8CqqqqqqqoKwLLJJptssgnAuuiiiy66CMDCBx988MEHwMomm2yyyQbA0UUXXXTRBcDZZJNNNtkEwOGDDz744APA6KKLLrroAsDwwQcffPABwPjggw8++ADAAAAAAAAAAMAQPvjggw/+vyB88MEHH/y/MLrooosu+r88+OCDDz74v0w22WSTTfa/XHTRRRdd9L9ssskmm2zyv3zwwQcffPC/GF100UUX7b842WSTTTbpv1BVVVVVVeW/cNFFF1104b8gm2yyySbbv2CTTTbZZNO/QBdddNFFx78AH3zwwQevvwAffPDBB68/QBdddNFFxz9gk0022WTTPzCbbLLJJts/eNFFF1104T9YVVVVVVXlPzjZZJNNNuk/GF100UUX7T988MEHH3zwP2yyySabbPI/YHTRRRdd9D9QNtlkk032P0D44IMPPvg/MLrooosu+j8gfPDBBx/8PxA++OCDD/4/AAAAAAAAAED44IMPPvgAQPDBBx988AFA6KKLLrroAkDggw8++OADQNhkk0022QRA0EUXXXTRBUDMJptssskGQMQHH3zwwQdAvOiiiy66CEC0ySabbLIJQKyqqqqqqgpApIsuuuiiC0CcbLLJJpsMQJRNNtlkkw1AjC666KKLDkCEDz744IMPQD744IMPPhBAuuiiiy66EEA22WSTTTYRQLLJJptsshFALrrooosuEkCsqqqqqqoSQCibbLLJJhNApIsuuuiiE0AgfPDBBx8UQJxssskmmxRAGF100UUXFUCUTTbZZJMVQBA++OCDDxZAjC666KKLFkAIH3zwwQcXQIQPPvjggxdAAAAAAAAAGEA=\",\"dtype\":\"float64\",\"shape\":[100]},\"y\":{\"__ndarray__\":\"9SJ4Cbe57j8JY+r+OmvtP60Tvck6rus/WLzTHz6J6T/x0bJaUwTnP6I1+zPxKOQ/oScYONMB4T8ZPFzpojXbP8HygfRnAdQ/fGjcYAsEyT8z6888mk6zP+5YV8fTZqe/pYFip7xExb9PFf407y/Svy7Wz2Mtedm/GSzA6Fwx4L8zrWZ2Tmnjv1uZMxdUWOa/yEpIeGjz6L+BKUaewTDrv4rmZKv1B+2/pq/Cehpy7r9tKDKa32nvv7My8UCi6++/lWFJ+Hr1779ggMrCRIfvv13mP6edou6//JJWneBK7b/O+cbyGIXrv36TXFjvV+m/wpQK3pDL5r8HDQc8kOnjv6yITtzBvOC/BXJTVyai2r/ACBWWu2bTv4h0TibdxMe/sSQZ5fDFsL8tuK+mtnmsP79vCY4VhcY//tyFCJLL0j9AaSfs/Q3aPzoevIFEd+A/HBvGyK6p4z+ZiDpMO5LmPxkpbAr9Jek/+alUikVb6z85RlM6ySntP8nZq5m+iu4/fMS1t/d47z+hS/Ko9fDvP6FL8qj18O8/fMS1t/d47z/J2auZvoruPzZGUzrJKe0/9KlUikVb6z8UKWwK/SXpP5mIOkw7kuY/HBvGyK6p4z86HryBRHfgP0BpJ+z9Ddo/79yFCJLL0j+fbwmOFYXGP623r6a2eaw/sSQZ5fDFsL+IdE4m3cTHv8AIFZa7ZtO/BXJTVyai2r+siE7cwbzgvwcNBzyQ6eO/wpQK3pDL5r98k1xY71fpv8z5xvIYheu/+pJWneBK7b9f5j+nnaLuv2KAysJEh++/lWFJ+Hr177+zMvFAouvvv2soMprfae+/pK/Cehpy7r+I5mSr9Qftv38pRp7BMOu/yEpIeGjz6L9bmTMXVFjmvzOtZnZOaeO/GSzA6Fwx4L8u1s9jLXnZv08V/jTvL9K/pYFip7xExb/uV1fH02anv3PrzzyaTrM/nGjcYAsEyT/Q8oH0ZwHUPyc8XOmiNds/qCcYONMB4T+oNfsz8SjkP/HRslpTBOc/WLzTHz6J6T+tE73JOq7rPwlj6v46a+0/9SJ4Cbe57j8=\",\"dtype\":\"float64\",\"shape\":[100]}},\"selected\":{\"id\":\"7ea9693c-ead2-4bff-8434-ff171d29d97c\",\"type\":\"Selection\"},\"selection_policy\":{\"id\":\"cc7498d8-81ed-4e36-a3bc-2d259b9571a4\",\"type\":\"UnionRenderers\"}},\"id\":\"911af4b9-51ba-45de-89ad-8cf208411bb5\",\"type\":\"ColumnDataSource\"},{\"attributes\":{},\"id\":\"57c20150-54f5-4d18-8aa3-c2eae2efad00\",\"type\":\"BasicTicker\"},{\"attributes\":{\"fill_alpha\":{\"value\":0.1},\"fill_color\":{\"value\":\"#1f77b4\"},\"line_alpha\":{\"value\":0.1},\"line_color\":{\"value\":\"#1f77b4\"},\"size\":{\"units\":\"screen\",\"value\":7},\"x\":{\"field\":\"x\"},\"y\":{\"field\":\"y\"}},\"id\":\"2654344b-316e-44fc-80f5-1d58ed2c9508\",\"type\":\"Circle\"},{\"attributes\":{},\"id\":\"8fe96ad8-d60d-4a19-ac19-122ea130038d\",\"type\":\"LinearScale\"},{\"attributes\":{\"bottom_units\":\"screen\",\"fill_alpha\":{\"value\":0.5},\"fill_color\":{\"value\":\"lightgrey\"},\"left_units\":\"screen\",\"level\":\"overlay\",\"line_alpha\":{\"value\":1.0},\"line_color\":{\"value\":\"black\"},\"line_dash\":[4,4],\"line_width\":{\"value\":2},\"plot\":null,\"render_mode\":\"css\",\"right_units\":\"screen\",\"top_units\":\"screen\"},\"id\":\"1d120b68-24b8-4860-9bfc-f1afaa2022bd\",\"type\":\"BoxAnnotation\"},{\"attributes\":{},\"id\":\"7ea9693c-ead2-4bff-8434-ff171d29d97c\",\"type\":\"Selection\"},{\"attributes\":{\"formatter\":{\"id\":\"c5a3f469-ba65-4d45-958a-37fdb58305cc\",\"type\":\"BasicTickFormatter\"},\"plot\":{\"id\":\"b11d1b46-0b08-44c8-bb16-8304513e3d15\",\"subtype\":\"Figure\",\"type\":\"Plot\"},\"ticker\":{\"id\":\"abcd0a1b-9994-4fed-9ea3-4de28a6854db\",\"type\":\"BasicTicker\"}},\"id\":\"78750af8-5fe4-4cd7-b68b-4b31ae1ceb65\",\"type\":\"LinearAxis\"},{\"attributes\":{\"data_source\":{\"id\":\"911af4b9-51ba-45de-89ad-8cf208411bb5\",\"type\":\"ColumnDataSource\"},\"glyph\":{\"id\":\"8cc9453d-fde9-4ab3-8464-0806c9be544d\",\"type\":\"Circle\"},\"hover_glyph\":null,\"muted_glyph\":null,\"nonselection_glyph\":{\"id\":\"2654344b-316e-44fc-80f5-1d58ed2c9508\",\"type\":\"Circle\"},\"selection_glyph\":null,\"view\":{\"id\":\"7f0c4e1d-90fb-4029-b77a-b4600ebea1de\",\"type\":\"CDSView\"}},\"id\":\"3a34f9aa-3e96-4184-9572-c1d9738fd25b\",\"type\":\"GlyphRenderer\"}],\"root_ids\":[\"b11d1b46-0b08-44c8-bb16-8304513e3d15\"]},\"title\":\"Bokeh Application\",\"version\":\"0.13.0\"}};\n",
       "  var render_items = [{\"docid\":\"aeec4543-46cd-4f87-acc1-ea2ed28b7ada\",\"roots\":{\"b11d1b46-0b08-44c8-bb16-8304513e3d15\":\"94f2184c-4368-4600-a460-84eec19a94b9\"}}];\n",
       "  root.Bokeh.embed.embed_items_notebook(docs_json, render_items);\n",
       "\n",
       "  }\n",
       "  if (root.Bokeh !== undefined) {\n",
       "    embed_document(root);\n",
       "  } else {\n",
       "    var attempts = 0;\n",
       "    var timer = setInterval(function(root) {\n",
       "      if (root.Bokeh !== undefined) {\n",
       "        embed_document(root);\n",
       "        clearInterval(timer);\n",
       "      }\n",
       "      attempts++;\n",
       "      if (attempts > 100) {\n",
       "        console.log(\"Bokeh: ERROR: Unable to run BokehJS code because BokehJS library is missing\")\n",
       "        clearInterval(timer);\n",
       "      }\n",
       "    }, 10, root)\n",
       "  }\n",
       "})(window);"
      ],
      "application/vnd.bokehjs_exec.v0+json": ""
     },
     "metadata": {
      "application/vnd.bokehjs_exec.v0+json": {
       "id": "b11d1b46-0b08-44c8-bb16-8304513e3d15"
      }
     },
     "output_type": "display_data"
    }
   ],
   "source": [
    "p = figure(width=500, height=500)\n",
    "p.circle(x, y, size=7, color=\"firebrick\", alpha=0.5)\n",
    "show(p)"
   ]
  },
  {
   "cell_type": "markdown",
   "metadata": {},
   "source": [
    "# Bar Plot Example\n",
    "\n",
    "\n",
    "Bokeh's core display model relies on *composing graphical primitives* which are bound to data series.  This is similar in spirit to Protovis and D3, and different than most other Python plotting libraries.\n",
    "\n",
    "A slightly more sophisticated example demonstrates this idea.\n",
    "\n",
    "Bokeh ships with a small set of interesting \"sample data\" in the `bokeh.sampledata` package.  We'll load up some historical automobile mileage data, which is returned as a Pandas `DataFrame`."
   ]
  },
  {
   "cell_type": "code",
   "execution_count": 5,
   "metadata": {},
   "outputs": [],
   "source": [
    "from bokeh.sampledata.autompg import autompg\n",
    "\n",
    "grouped = autompg.groupby(\"yr\")\n",
    "\n",
    "mpg = grouped.mpg\n",
    "avg, std = mpg.mean(), mpg.std()\n",
    "years = list(grouped.groups)\n",
    "american = autompg[autompg[\"origin\"]==1]\n",
    "japanese = autompg[autompg[\"origin\"]==3]"
   ]
  },
  {
   "cell_type": "markdown",
   "metadata": {},
   "source": [
    "For each year, we want to plot the distribution of MPG within that year."
   ]
  },
  {
   "cell_type": "code",
   "execution_count": 6,
   "metadata": {},
   "outputs": [
    {
     "data": {
      "text/html": [
       "\n",
       "\n",
       "\n",
       "\n",
       "\n",
       "\n",
       "  <div class=\"bk-root\" id=\"92409529-2443-4698-83d8-8ad84ee19e96\"></div>\n"
      ]
     },
     "metadata": {},
     "output_type": "display_data"
    },
    {
     "data": {
      "application/javascript": [
       "(function(root) {\n",
       "  function embed_document(root) {\n",
       "    \n",
       "  var docs_json = {\"bad1f4b5-c81b-4fc1-872b-70166b3d66a6\":{\"roots\":{\"references\":[{\"attributes\":{\"bottom\":{\"field\":\"bottom\"},\"fill_alpha\":{\"value\":0.1},\"fill_color\":{\"value\":\"#1f77b4\"},\"line_alpha\":{\"value\":0.1},\"line_color\":{\"value\":\"#1f77b4\"},\"top\":{\"field\":\"top\"},\"width\":{\"value\":0.8},\"x\":{\"field\":\"x\"}},\"id\":\"1de74a0b-8e49-49f1-aa66-f6afc5dafeed\",\"type\":\"VBar\"},{\"attributes\":{\"bottom\":{\"field\":\"bottom\"},\"fill_alpha\":{\"value\":0.2},\"fill_color\":{\"value\":\"#1f77b4\"},\"line_color\":{\"value\":null},\"top\":{\"field\":\"top\"},\"width\":{\"value\":0.8},\"x\":{\"field\":\"x\"}},\"id\":\"cd33895a-6a48-4d01-959b-775e51030e93\",\"type\":\"VBar\"},{\"attributes\":{},\"id\":\"f49d1841-eed7-4f3b-b6b4-349e109bb6c9\",\"type\":\"BasicTickFormatter\"},{\"attributes\":{},\"id\":\"557f2278-14a2-47d1-88c5-96fbc488748a\",\"type\":\"ResetTool\"},{\"attributes\":{},\"id\":\"3f9a981e-eaaf-413f-b424-0a9f6ff67052\",\"type\":\"UnionRenderers\"},{\"attributes\":{\"plot\":{\"id\":\"42a1e000-ac23-4612-97b0-2fded48d2234\",\"subtype\":\"Figure\",\"type\":\"Plot\"},\"ticker\":{\"id\":\"8746336a-c725-44a0-9b9d-808e295d5fe0\",\"type\":\"BasicTicker\"}},\"id\":\"6f34509e-4b27-4a3f-9248-b86c22682096\",\"type\":\"Grid\"},{\"attributes\":{\"items\":[{\"id\":\"ef96f6cf-cee8-43f9-a0fb-889a804321bc\",\"type\":\"LegendItem\"},{\"id\":\"c3b5d73d-f1d7-483b-a110-76201f47499b\",\"type\":\"LegendItem\"},{\"id\":\"de093522-d125-418f-bbb5-99465d6efe7e\",\"type\":\"LegendItem\"}],\"location\":\"top_left\",\"plot\":{\"id\":\"42a1e000-ac23-4612-97b0-2fded48d2234\",\"subtype\":\"Figure\",\"type\":\"Plot\"}},\"id\":\"b8c5c1fe-3e58-4014-bd93-1a8a62e79b51\",\"type\":\"Legend\"},{\"attributes\":{\"callback\":null,\"data\":{\"x\":[70,70,71,71,71,71,72,72,72,72,72,73,73,73,73,74,74,74,74,74,74,75,75,75,75,76,76,76,76,77,77,77,77,77,77,78,78,78,78,78,78,78,78,79,79,80,80,80,80,80,80,80,80,80,80,80,80,80,81,81,81,81,81,81,81,81,81,81,81,81,82,82,82,82,82,82,82,82,82],\"y\":{\"__ndarray__\":\"AAAAAAAAOEAAAAAAAAA7QAAAAAAAADtAAAAAAAAAOUAAAAAAAAA/QAAAAAAAgEFAAAAAAAAAOEAAAAAAAAAzQAAAAAAAADxAAAAAAAAAN0AAAAAAAAA7QAAAAAAAADRAAAAAAAAANkAAAAAAAAAyQAAAAAAAADRAAAAAAAAAP0AAAAAAAABAQAAAAAAAAD9AAAAAAAAAQEAAAAAAAAA4QAAAAAAAADpAAAAAAAAAPUAAAAAAAAA4QAAAAAAAADhAAAAAAACAQEAAAAAAAIBAQAAAAAAAAEBAAAAAAAAAPEAAAAAAAAAzQAAAAAAAgD9AAAAAAADAQEAAAAAAAAA6QAAAAAAAAD5AAAAAAAAANkAAAAAAAIA1QGZmZmZmZkBAMzMzMzOzQ0DNzMzMzAxCQAAAAAAAgDtAMzMzMzMzO0CamZmZmRk1QGZmZmZm5jdAAAAAAACAPUDNzMzMzAxBQM3MzMzMzD9AzczMzMwMQ0CamZmZmZlCQM3MzMzMzD1AzczMzMxMP0AAAAAAAIBCQJqZmZmZGUBAzczMzMxMR0BmZmZmZmZEQM3MzMzMTEZAZmZmZmbmQECamZmZmVlAQDMzMzMzszdAMzMzMzMzQEDNzMzMzIxDQM3MzMzMjEFAZmZmZmYmQEAAAAAAAIBCQJqZmZmZ2UJAzczMzMwMQUCamZmZmdlAQDMzMzMzM0BAMzMzMzNzQECamZmZmZk/QGZmZmZmZjlAMzMzMzMzOEAAAAAAAIBCQAAAAAAAAD9AAAAAAAAAQkAAAAAAAABCQAAAAAAAAEFAAAAAAAAAQ0AAAAAAAABAQAAAAAAAAENAAAAAAAAAQEA=\",\"dtype\":\"float64\",\"shape\":[79]}},\"selected\":{\"id\":\"a5104717-6199-4dfb-bc90-88e74528a50b\",\"type\":\"Selection\"},\"selection_policy\":{\"id\":\"def5aedb-6ec4-43b2-8d55-8785d71697a3\",\"type\":\"UnionRenderers\"}},\"id\":\"997753a2-3562-43cc-9e39-f9a6aaf35341\",\"type\":\"ColumnDataSource\"},{\"attributes\":{\"formatter\":{\"id\":\"cea30ce4-aa3c-497c-8e1b-7bb25d9ecf04\",\"type\":\"BasicTickFormatter\"},\"plot\":{\"id\":\"42a1e000-ac23-4612-97b0-2fded48d2234\",\"subtype\":\"Figure\",\"type\":\"Plot\"},\"ticker\":{\"id\":\"8746336a-c725-44a0-9b9d-808e295d5fe0\",\"type\":\"BasicTicker\"}},\"id\":\"d84a39a9-6b2c-442c-b62c-e89b9f6c76fe\",\"type\":\"LinearAxis\"},{\"attributes\":{},\"id\":\"b0018d60-14d1-40f2-9dea-5170ab264a96\",\"type\":\"WheelZoomTool\"},{\"attributes\":{\"overlay\":{\"id\":\"71febb92-34b9-4d8c-9385-c2e1d097b0f1\",\"type\":\"BoxAnnotation\"}},\"id\":\"1d467055-1174-4ab4-b5f5-71c546d5fba2\",\"type\":\"BoxZoomTool\"},{\"attributes\":{},\"id\":\"3e823cb1-245a-4f30-960b-a3b743b68c46\",\"type\":\"PanTool\"},{\"attributes\":{},\"id\":\"def5aedb-6ec4-43b2-8d55-8785d71697a3\",\"type\":\"UnionRenderers\"},{\"attributes\":{},\"id\":\"0fd54d4d-3ef6-4a7b-bbd9-e5fadd3ac336\",\"type\":\"Selection\"},{\"attributes\":{},\"id\":\"2112f18f-5e3b-4d48-85de-8f3bde518be4\",\"type\":\"UnionRenderers\"},{\"attributes\":{\"data_source\":{\"id\":\"93bee0ab-0c38-4997-a136-9ab57f418dc4\",\"type\":\"ColumnDataSource\"},\"glyph\":{\"id\":\"396318f8-8c68-4c82-8aa4-4cb51beb704e\",\"type\":\"Triangle\"},\"hover_glyph\":null,\"muted_glyph\":null,\"nonselection_glyph\":{\"id\":\"690d5c34-3a3b-4585-afb7-1348fbf8be40\",\"type\":\"Triangle\"},\"selection_glyph\":null,\"view\":{\"id\":\"dac11c80-2b69-4011-87aa-a3ed97d9ddc7\",\"type\":\"CDSView\"}},\"id\":\"8bb09451-0a47-4db0-ba55-731985ffc439\",\"type\":\"GlyphRenderer\"},{\"attributes\":{\"data_source\":{\"id\":\"b416c1a0-4a14-4f1f-9893-faf3ea38806c\",\"type\":\"ColumnDataSource\"},\"glyph\":{\"id\":\"cd33895a-6a48-4d01-959b-775e51030e93\",\"type\":\"VBar\"},\"hover_glyph\":null,\"muted_glyph\":null,\"nonselection_glyph\":{\"id\":\"1de74a0b-8e49-49f1-aa66-f6afc5dafeed\",\"type\":\"VBar\"},\"selection_glyph\":null,\"view\":{\"id\":\"85be5f7b-6e27-4891-8097-aea939802587\",\"type\":\"CDSView\"}},\"id\":\"31d1fce5-a6e2-4eb1-8760-57a4b845d35e\",\"type\":\"GlyphRenderer\"},{\"attributes\":{\"fill_alpha\":{\"value\":0.1},\"fill_color\":{\"value\":\"#1f77b4\"},\"line_alpha\":{\"value\":0.1},\"line_color\":{\"value\":\"#1f77b4\"},\"size\":{\"units\":\"screen\",\"value\":10},\"x\":{\"field\":\"x\"},\"y\":{\"field\":\"y\"}},\"id\":\"690d5c34-3a3b-4585-afb7-1348fbf8be40\",\"type\":\"Triangle\"},{\"attributes\":{\"callback\":null,\"data\":{\"bottom\":{\"__ndarray__\":\"gvFgx2qzKECcKci59t4sQJZdRzm5jipAzvVtn6zMKECki7kXNjswQIpnc6D2pi5ApAV4qVNeL0DtFQi6+rIwQBxLQL6+KTFAWBwW2YNMMkBnDzEy+Oo6QAq856zmjDhAfzfsSXnEOkA=\",\"dtype\":\"float64\",\"shape\":[13]},\"top\":{\"__ndarray__\":\"55jlF2UHN0DAzlQxaMk7QBEIyj5aJjhATTh849zMNUD6TNCFok49QMPUTjgNNTlA1KLp0Ht2O0AT6vdFBQ0+QNr+XjaL9T5AVt48aCfjP0AojYptQ1hEQPSsO6IX6UFAQOQJW8OdQkA=\",\"dtype\":\"float64\",\"shape\":[13]},\"x\":[70,71,72,73,74,75,76,77,78,79,80,81,82]},\"selected\":{\"id\":\"401a863a-51d7-4731-8006-4f63dc274b44\",\"type\":\"Selection\"},\"selection_policy\":{\"id\":\"2112f18f-5e3b-4d48-85de-8f3bde518be4\",\"type\":\"UnionRenderers\"}},\"id\":\"b416c1a0-4a14-4f1f-9893-faf3ea38806c\",\"type\":\"ColumnDataSource\"},{\"attributes\":{\"dimension\":1,\"plot\":{\"id\":\"42a1e000-ac23-4612-97b0-2fded48d2234\",\"subtype\":\"Figure\",\"type\":\"Plot\"},\"ticker\":{\"id\":\"385effe2-ece0-4140-9bb6-2affa39a2f09\",\"type\":\"BasicTicker\"}},\"id\":\"bd948bd1-94ce-4bb4-8b2a-f5d0275f0545\",\"type\":\"Grid\"},{\"attributes\":{\"fill_alpha\":{\"value\":0.5},\"fill_color\":{\"value\":\"red\"},\"line_alpha\":{\"value\":0.5},\"line_color\":{\"value\":\"red\"},\"size\":{\"units\":\"screen\",\"value\":10},\"x\":{\"field\":\"x\"},\"y\":{\"field\":\"y\"}},\"id\":\"35d1fbce-767b-40b4-bde1-3758144fd230\",\"type\":\"Circle\"},{\"attributes\":{\"callback\":null,\"data\":{\"x\":[70,70,70,70,70,70,70,70,70,70,70,70,70,70,70,70,70,70,70,70,70,70,71,71,71,71,71,71,71,71,71,71,71,71,71,71,71,71,71,71,71,72,72,72,72,72,72,72,72,72,72,72,72,72,72,72,72,72,72,73,73,73,73,73,73,73,73,73,73,73,73,73,73,73,73,73,73,73,73,73,73,73,73,73,73,73,73,73,74,74,74,74,74,74,74,74,74,74,74,74,74,74,75,75,75,75,75,75,75,75,75,75,75,75,75,75,75,75,75,75,75,75,76,76,76,76,76,76,76,76,76,76,76,76,76,76,76,76,76,76,76,76,76,76,77,77,77,77,77,77,77,77,77,77,77,77,77,77,77,77,77,77,78,78,78,78,78,78,78,78,78,78,78,78,78,78,78,78,78,78,78,78,78,78,79,79,79,79,79,79,79,79,79,79,79,79,79,79,79,79,79,79,79,79,79,79,79,80,80,80,80,80,80,81,81,81,81,81,81,81,81,81,81,81,81,81,82,82,82,82,82,82,82,82,82,82,82,82,82,82,82,82,82,82,82],\"y\":{\"__ndarray__\":\"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\",\"dtype\":\"float64\",\"shape\":[245]}},\"selected\":{\"id\":\"0fd54d4d-3ef6-4a7b-bbd9-e5fadd3ac336\",\"type\":\"Selection\"},\"selection_policy\":{\"id\":\"3f9a981e-eaaf-413f-b424-0a9f6ff67052\",\"type\":\"UnionRenderers\"}},\"id\":\"93bee0ab-0c38-4997-a136-9ab57f418dc4\",\"type\":\"ColumnDataSource\"},{\"attributes\":{},\"id\":\"a56687e4-8676-4c80-9542-a2b7e28d2f10\",\"type\":\"LinearScale\"},{\"attributes\":{\"formatter\":{\"id\":\"f49d1841-eed7-4f3b-b6b4-349e109bb6c9\",\"type\":\"BasicTickFormatter\"},\"plot\":{\"id\":\"42a1e000-ac23-4612-97b0-2fded48d2234\",\"subtype\":\"Figure\",\"type\":\"Plot\"},\"ticker\":{\"id\":\"385effe2-ece0-4140-9bb6-2affa39a2f09\",\"type\":\"BasicTicker\"}},\"id\":\"c92afa04-98bd-406a-85fe-17af36d4a2d5\",\"type\":\"LinearAxis\"},{\"attributes\":{},\"id\":\"f746c554-6103-46d0-bcf0-ae1c95da3bd1\",\"type\":\"SaveTool\"},{\"attributes\":{\"source\":{\"id\":\"997753a2-3562-43cc-9e39-f9a6aaf35341\",\"type\":\"ColumnDataSource\"}},\"id\":\"89a54986-4256-4767-9631-1ee70d64908d\",\"type\":\"CDSView\"},{\"attributes\":{\"fill_alpha\":{\"value\":0.1},\"fill_color\":{\"value\":\"#1f77b4\"},\"line_alpha\":{\"value\":0.1},\"line_color\":{\"value\":\"#1f77b4\"},\"size\":{\"units\":\"screen\",\"value\":10},\"x\":{\"field\":\"x\"},\"y\":{\"field\":\"y\"}},\"id\":\"5bad126c-2e3a-4af3-8b79-079e6b26272f\",\"type\":\"Circle\"},{\"attributes\":{\"data_source\":{\"id\":\"997753a2-3562-43cc-9e39-f9a6aaf35341\",\"type\":\"ColumnDataSource\"},\"glyph\":{\"id\":\"35d1fbce-767b-40b4-bde1-3758144fd230\",\"type\":\"Circle\"},\"hover_glyph\":null,\"muted_glyph\":null,\"nonselection_glyph\":{\"id\":\"5bad126c-2e3a-4af3-8b79-079e6b26272f\",\"type\":\"Circle\"},\"selection_glyph\":null,\"view\":{\"id\":\"89a54986-4256-4767-9631-1ee70d64908d\",\"type\":\"CDSView\"}},\"id\":\"d0ce224a-b212-42c4-b185-7149c62326b5\",\"type\":\"GlyphRenderer\"},{\"attributes\":{\"source\":{\"id\":\"93bee0ab-0c38-4997-a136-9ab57f418dc4\",\"type\":\"ColumnDataSource\"}},\"id\":\"dac11c80-2b69-4011-87aa-a3ed97d9ddc7\",\"type\":\"CDSView\"},{\"attributes\":{},\"id\":\"401a863a-51d7-4731-8006-4f63dc274b44\",\"type\":\"Selection\"},{\"attributes\":{},\"id\":\"cea30ce4-aa3c-497c-8e1b-7bb25d9ecf04\",\"type\":\"BasicTickFormatter\"},{\"attributes\":{\"label\":{\"value\":\"MPG 1 stddev\"},\"renderers\":[{\"id\":\"31d1fce5-a6e2-4eb1-8760-57a4b845d35e\",\"type\":\"GlyphRenderer\"}]},\"id\":\"ef96f6cf-cee8-43f9-a0fb-889a804321bc\",\"type\":\"LegendItem\"},{\"attributes\":{},\"id\":\"a5104717-6199-4dfb-bc90-88e74528a50b\",\"type\":\"Selection\"},{\"attributes\":{\"plot\":null,\"text\":\"MPG by Year (Japan and US)\"},\"id\":\"12b675db-3ffc-4717-a6e7-7ede284243d2\",\"type\":\"Title\"},{\"attributes\":{\"label\":{\"value\":\"American\"},\"renderers\":[{\"id\":\"8bb09451-0a47-4db0-ba55-731985ffc439\",\"type\":\"GlyphRenderer\"}]},\"id\":\"de093522-d125-418f-bbb5-99465d6efe7e\",\"type\":\"LegendItem\"},{\"attributes\":{},\"id\":\"385effe2-ece0-4140-9bb6-2affa39a2f09\",\"type\":\"BasicTicker\"},{\"attributes\":{\"below\":[{\"id\":\"d84a39a9-6b2c-442c-b62c-e89b9f6c76fe\",\"type\":\"LinearAxis\"}],\"left\":[{\"id\":\"c92afa04-98bd-406a-85fe-17af36d4a2d5\",\"type\":\"LinearAxis\"}],\"renderers\":[{\"id\":\"d84a39a9-6b2c-442c-b62c-e89b9f6c76fe\",\"type\":\"LinearAxis\"},{\"id\":\"6f34509e-4b27-4a3f-9248-b86c22682096\",\"type\":\"Grid\"},{\"id\":\"c92afa04-98bd-406a-85fe-17af36d4a2d5\",\"type\":\"LinearAxis\"},{\"id\":\"bd948bd1-94ce-4bb4-8b2a-f5d0275f0545\",\"type\":\"Grid\"},{\"id\":\"71febb92-34b9-4d8c-9385-c2e1d097b0f1\",\"type\":\"BoxAnnotation\"},{\"id\":\"b8c5c1fe-3e58-4014-bd93-1a8a62e79b51\",\"type\":\"Legend\"},{\"id\":\"31d1fce5-a6e2-4eb1-8760-57a4b845d35e\",\"type\":\"GlyphRenderer\"},{\"id\":\"d0ce224a-b212-42c4-b185-7149c62326b5\",\"type\":\"GlyphRenderer\"},{\"id\":\"8bb09451-0a47-4db0-ba55-731985ffc439\",\"type\":\"GlyphRenderer\"}],\"title\":{\"id\":\"12b675db-3ffc-4717-a6e7-7ede284243d2\",\"type\":\"Title\"},\"toolbar\":{\"id\":\"dac28597-e94b-4e2c-b66b-577683171a87\",\"type\":\"Toolbar\"},\"x_range\":{\"id\":\"60ff39d0-7b63-42b2-b966-7efe4880b1f1\",\"type\":\"DataRange1d\"},\"x_scale\":{\"id\":\"a56687e4-8676-4c80-9542-a2b7e28d2f10\",\"type\":\"LinearScale\"},\"y_range\":{\"id\":\"0eb3873c-b17e-4aec-8267-76dda47638fc\",\"type\":\"DataRange1d\"},\"y_scale\":{\"id\":\"25cac6a0-7c17-4fbe-bf97-07056d72f12f\",\"type\":\"LinearScale\"}},\"id\":\"42a1e000-ac23-4612-97b0-2fded48d2234\",\"subtype\":\"Figure\",\"type\":\"Plot\"},{\"attributes\":{\"source\":{\"id\":\"b416c1a0-4a14-4f1f-9893-faf3ea38806c\",\"type\":\"ColumnDataSource\"}},\"id\":\"85be5f7b-6e27-4891-8097-aea939802587\",\"type\":\"CDSView\"},{\"attributes\":{},\"id\":\"25cac6a0-7c17-4fbe-bf97-07056d72f12f\",\"type\":\"LinearScale\"},{\"attributes\":{},\"id\":\"8746336a-c725-44a0-9b9d-808e295d5fe0\",\"type\":\"BasicTicker\"},{\"attributes\":{},\"id\":\"d7886736-f66f-4f46-9203-221e3ff7da46\",\"type\":\"HelpTool\"},{\"attributes\":{\"active_drag\":\"auto\",\"active_inspect\":\"auto\",\"active_multi\":null,\"active_scroll\":\"auto\",\"active_tap\":\"auto\",\"tools\":[{\"id\":\"3e823cb1-245a-4f30-960b-a3b743b68c46\",\"type\":\"PanTool\"},{\"id\":\"b0018d60-14d1-40f2-9dea-5170ab264a96\",\"type\":\"WheelZoomTool\"},{\"id\":\"1d467055-1174-4ab4-b5f5-71c546d5fba2\",\"type\":\"BoxZoomTool\"},{\"id\":\"f746c554-6103-46d0-bcf0-ae1c95da3bd1\",\"type\":\"SaveTool\"},{\"id\":\"557f2278-14a2-47d1-88c5-96fbc488748a\",\"type\":\"ResetTool\"},{\"id\":\"d7886736-f66f-4f46-9203-221e3ff7da46\",\"type\":\"HelpTool\"}]},\"id\":\"dac28597-e94b-4e2c-b66b-577683171a87\",\"type\":\"Toolbar\"},{\"attributes\":{\"callback\":null},\"id\":\"0eb3873c-b17e-4aec-8267-76dda47638fc\",\"type\":\"DataRange1d\"},{\"attributes\":{\"fill_alpha\":{\"value\":0.3},\"fill_color\":{\"value\":\"blue\"},\"line_alpha\":{\"value\":0.3},\"line_color\":{\"value\":\"blue\"},\"size\":{\"units\":\"screen\",\"value\":10},\"x\":{\"field\":\"x\"},\"y\":{\"field\":\"y\"}},\"id\":\"396318f8-8c68-4c82-8aa4-4cb51beb704e\",\"type\":\"Triangle\"},{\"attributes\":{\"label\":{\"value\":\"Japanese\"},\"renderers\":[{\"id\":\"d0ce224a-b212-42c4-b185-7149c62326b5\",\"type\":\"GlyphRenderer\"}]},\"id\":\"c3b5d73d-f1d7-483b-a110-76201f47499b\",\"type\":\"LegendItem\"},{\"attributes\":{\"callback\":null},\"id\":\"60ff39d0-7b63-42b2-b966-7efe4880b1f1\",\"type\":\"DataRange1d\"},{\"attributes\":{\"bottom_units\":\"screen\",\"fill_alpha\":{\"value\":0.5},\"fill_color\":{\"value\":\"lightgrey\"},\"left_units\":\"screen\",\"level\":\"overlay\",\"line_alpha\":{\"value\":1.0},\"line_color\":{\"value\":\"black\"},\"line_dash\":[4,4],\"line_width\":{\"value\":2},\"plot\":null,\"render_mode\":\"css\",\"right_units\":\"screen\",\"top_units\":\"screen\"},\"id\":\"71febb92-34b9-4d8c-9385-c2e1d097b0f1\",\"type\":\"BoxAnnotation\"}],\"root_ids\":[\"42a1e000-ac23-4612-97b0-2fded48d2234\"]},\"title\":\"Bokeh Application\",\"version\":\"0.13.0\"}};\n",
       "  var render_items = [{\"docid\":\"bad1f4b5-c81b-4fc1-872b-70166b3d66a6\",\"roots\":{\"42a1e000-ac23-4612-97b0-2fded48d2234\":\"92409529-2443-4698-83d8-8ad84ee19e96\"}}];\n",
       "  root.Bokeh.embed.embed_items_notebook(docs_json, render_items);\n",
       "\n",
       "  }\n",
       "  if (root.Bokeh !== undefined) {\n",
       "    embed_document(root);\n",
       "  } else {\n",
       "    var attempts = 0;\n",
       "    var timer = setInterval(function(root) {\n",
       "      if (root.Bokeh !== undefined) {\n",
       "        embed_document(root);\n",
       "        clearInterval(timer);\n",
       "      }\n",
       "      attempts++;\n",
       "      if (attempts > 100) {\n",
       "        console.log(\"Bokeh: ERROR: Unable to run BokehJS code because BokehJS library is missing\")\n",
       "        clearInterval(timer);\n",
       "      }\n",
       "    }, 10, root)\n",
       "  }\n",
       "})(window);"
      ],
      "application/vnd.bokehjs_exec.v0+json": ""
     },
     "metadata": {
      "application/vnd.bokehjs_exec.v0+json": {
       "id": "42a1e000-ac23-4612-97b0-2fded48d2234"
      }
     },
     "output_type": "display_data"
    }
   ],
   "source": [
    "p = figure(title=\"MPG by Year (Japan and US)\")\n",
    "\n",
    "p.vbar(x=years, bottom=avg-std, top=avg+std, width=0.8, \n",
    "       fill_alpha=0.2, line_color=None, legend=\"MPG 1 stddev\")\n",
    "\n",
    "p.circle(x=japanese[\"yr\"], y=japanese[\"mpg\"], size=10, alpha=0.5,\n",
    "         color=\"red\", legend=\"Japanese\")\n",
    "\n",
    "p.triangle(x=american[\"yr\"], y=american[\"mpg\"], size=10, alpha=0.3,\n",
    "           color=\"blue\", legend=\"American\")\n",
    "\n",
    "p.legend.location = \"top_left\"\n",
    "show(p)"
   ]
  },
  {
   "cell_type": "markdown",
   "metadata": {},
   "source": [
    "**This kind of approach can be used to generate other kinds of interesting plots. See many more examples in the [Bokeh Documentation Gallery](https://bokeh.pydata.org/en/latest/docs/gallery.html). **"
   ]
  },
  {
   "cell_type": "markdown",
   "metadata": {},
   "source": [
    "## Linked Brushing\n",
    "\n",
    "To link plots together at a data level, we can explicitly wrap the data in a `ColumnDataSource`. This allows us to reference columns by name.\n",
    "\n",
    "We can use a \"select\" tool to select points on one plot, and the linked points on the other plots will highlight."
   ]
  },
  {
   "cell_type": "code",
   "execution_count": 7,
   "metadata": {},
   "outputs": [
    {
     "data": {
      "text/html": [
       "\n",
       "\n",
       "\n",
       "\n",
       "\n",
       "\n",
       "  <div class=\"bk-root\" id=\"e42df904-4250-4f64-a038-aa32c6fccee9\"></div>\n"
      ]
     },
     "metadata": {},
     "output_type": "display_data"
    },
    {
     "data": {
      "application/javascript": [
       "(function(root) {\n",
       "  function embed_document(root) {\n",
       "    \n",
       "  var docs_json = {\"ebe9aadd-28b2-446b-8080-884f2d424dfc\":{\"roots\":{\"references\":[{\"attributes\":{\"tools\":[{\"id\":\"46e47af1-f0b8-4b5c-8c9d-ef05aba18974\",\"type\":\"PanTool\"},{\"id\":\"07c613ba-492a-4f54-8412-a80b047da384\",\"type\":\"WheelZoomTool\"},{\"id\":\"5df2e44a-78e3-4a99-95dc-4d00680979bd\",\"type\":\"BoxZoomTool\"},{\"id\":\"4df93f3b-5965-4df4-bb03-777f0190091b\",\"type\":\"BoxSelectTool\"},{\"id\":\"1fde3b6a-4f8c-4fb1-8592-7c1127caf135\",\"type\":\"LassoSelectTool\"},{\"id\":\"7055d611-7ffa-41d5-8073-8ffd5caee9fe\",\"type\":\"PanTool\"},{\"id\":\"bb251479-cd93-4715-b49a-1fb4d08036aa\",\"type\":\"WheelZoomTool\"},{\"id\":\"a432bd36-6556-4cc9-aa2a-9b95dac7b538\",\"type\":\"BoxZoomTool\"},{\"id\":\"70407e69-128d-4da0-a2a6-40289af24f5e\",\"type\":\"BoxSelectTool\"},{\"id\":\"e0e1c06e-c125-45b8-bf9c-9ad4f35247f2\",\"type\":\"LassoSelectTool\"},{\"id\":\"815ee431-91c4-4a81-a98a-2743d2e0364d\",\"type\":\"PanTool\"},{\"id\":\"3a39e97d-41a1-4f95-9c74-6fa6613080bb\",\"type\":\"WheelZoomTool\"},{\"id\":\"50f4878c-0841-473a-b7a3-e5a8af0319e2\",\"type\":\"BoxZoomTool\"},{\"id\":\"23e320ad-9dd7-450c-9181-780842fbfffc\",\"type\":\"BoxSelectTool\"},{\"id\":\"eacfcb3f-8321-4ea9-93f6-707acc6dc073\",\"type\":\"LassoSelectTool\"}]},\"id\":\"2a93a995-357f-4110-b02b-36b13bcc4057\",\"type\":\"ProxyToolbar\"},{\"attributes\":{\"active_drag\":\"auto\",\"active_inspect\":\"auto\",\"active_multi\":null,\"active_scroll\":\"auto\",\"active_tap\":\"auto\",\"tools\":[{\"id\":\"46e47af1-f0b8-4b5c-8c9d-ef05aba18974\",\"type\":\"PanTool\"},{\"id\":\"07c613ba-492a-4f54-8412-a80b047da384\",\"type\":\"WheelZoomTool\"},{\"id\":\"5df2e44a-78e3-4a99-95dc-4d00680979bd\",\"type\":\"BoxZoomTool\"},{\"id\":\"4df93f3b-5965-4df4-bb03-777f0190091b\",\"type\":\"BoxSelectTool\"},{\"id\":\"1fde3b6a-4f8c-4fb1-8592-7c1127caf135\",\"type\":\"LassoSelectTool\"}]},\"id\":\"b3ff8cf1-e078-4e96-8533-bfcbe29b7521\",\"type\":\"Toolbar\"},{\"attributes\":{},\"id\":\"d2bd386f-c6d9-4f30-afa1-0022dae3bdb6\",\"type\":\"BasicTicker\"},{\"attributes\":{\"fill_alpha\":{\"value\":0.5},\"fill_color\":{\"value\":\"lightgrey\"},\"level\":\"overlay\",\"line_alpha\":{\"value\":1.0},\"line_color\":{\"value\":\"black\"},\"line_dash\":[4,4],\"line_width\":{\"value\":2},\"plot\":null,\"xs_units\":\"screen\",\"ys_units\":\"screen\"},\"id\":\"4f72e8c0-f80b-463c-a6d1-67943de202f5\",\"type\":\"PolyAnnotation\"},{\"attributes\":{},\"id\":\"c5410e18-bdcf-4e8b-b07e-4d4d5d07947d\",\"type\":\"BasicTickFormatter\"},{\"attributes\":{\"below\":[{\"id\":\"ba8964da-5c1f-4fa7-a25a-7f222b1261e2\",\"type\":\"LinearAxis\"}],\"left\":[{\"id\":\"12582152-7b9c-4b13-9438-11955f25af4f\",\"type\":\"LinearAxis\"}],\"plot_height\":300,\"plot_width\":300,\"renderers\":[{\"id\":\"ba8964da-5c1f-4fa7-a25a-7f222b1261e2\",\"type\":\"LinearAxis\"},{\"id\":\"d1c51ecf-7a16-4028-8b66-690e53521228\",\"type\":\"Grid\"},{\"id\":\"12582152-7b9c-4b13-9438-11955f25af4f\",\"type\":\"LinearAxis\"},{\"id\":\"a35fecc1-f190-42f8-b777-68cf551a13e0\",\"type\":\"Grid\"},{\"id\":\"e98124fe-e8b3-4e19-9439-ed4a1aee5e3b\",\"type\":\"BoxAnnotation\"},{\"id\":\"07653174-3d27-4cc5-a495-672ad6721b6e\",\"type\":\"BoxAnnotation\"},{\"id\":\"4f72e8c0-f80b-463c-a6d1-67943de202f5\",\"type\":\"PolyAnnotation\"},{\"id\":\"393b89d2-306f-4f0f-ab25-ee9d8bcb0985\",\"type\":\"GlyphRenderer\"}],\"title\":{\"id\":\"d196ef01-482f-4a4c-a0f5-040c1ada86c3\",\"type\":\"Title\"},\"toolbar\":{\"id\":\"b3ff8cf1-e078-4e96-8533-bfcbe29b7521\",\"type\":\"Toolbar\"},\"toolbar_location\":null,\"x_range\":{\"id\":\"a3951156-7088-43d3-b550-5e113cc73ca1\",\"type\":\"DataRange1d\"},\"x_scale\":{\"id\":\"4c5e947f-7b93-4633-a72d-e917077268a2\",\"type\":\"LinearScale\"},\"y_range\":{\"id\":\"fd0a6cfc-5f64-4903-90a9-0ac2a13fbbb1\",\"type\":\"DataRange1d\"},\"y_scale\":{\"id\":\"aca98ba7-6222-4652-9682-956845fe66dc\",\"type\":\"LinearScale\"}},\"id\":\"5b45f574-705b-4dbe-aa1c-b754111dbc88\",\"subtype\":\"Figure\",\"type\":\"Plot\"},{\"attributes\":{\"fill_color\":{\"value\":\"green\"},\"line_color\":{\"value\":\"green\"},\"x\":{\"field\":\"hp\"},\"y\":{\"field\":\"displ\"}},\"id\":\"8c72aeb2-0523-4b89-a151-386237977740\",\"type\":\"Circle\"},{\"attributes\":{\"plot\":null,\"text\":\"MPG vs. Displacement\"},\"id\":\"fd43b49d-7ee4-4a08-86ea-8718e22f326e\",\"type\":\"Title\"},{\"attributes\":{\"formatter\":{\"id\":\"536d57be-f9c9-44dc-825a-4d80b9b42a0e\",\"type\":\"BasicTickFormatter\"},\"plot\":{\"id\":\"108a9df1-c7dc-4dd8-93f4-6ef11a764c62\",\"subtype\":\"Figure\",\"type\":\"Plot\"},\"ticker\":{\"id\":\"c257bb12-da72-426d-953f-e5f517815c19\",\"type\":\"BasicTicker\"}},\"id\":\"77cae6d1-effd-4db5-86b8-e38c0d6d2ff2\",\"type\":\"LinearAxis\"},{\"attributes\":{\"callback\":null},\"id\":\"25c6b4ba-eb58-4714-9cc0-95175ed36ebf\",\"type\":\"DataRange1d\"},{\"attributes\":{\"fill_alpha\":{\"value\":0.1},\"fill_color\":{\"value\":\"#1f77b4\"},\"line_alpha\":{\"value\":0.1},\"line_color\":{\"value\":\"#1f77b4\"},\"x\":{\"field\":\"yr\"},\"y\":{\"field\":\"mpg\"}},\"id\":\"d49044d6-4b2a-47bd-8ab2-8203136e66c7\",\"type\":\"Circle\"},{\"attributes\":{\"bottom_units\":\"screen\",\"fill_alpha\":{\"value\":0.5},\"fill_color\":{\"value\":\"lightgrey\"},\"left_units\":\"screen\",\"level\":\"overlay\",\"line_alpha\":{\"value\":1.0},\"line_color\":{\"value\":\"black\"},\"line_dash\":[4,4],\"line_width\":{\"value\":2},\"plot\":null,\"render_mode\":\"css\",\"right_units\":\"screen\",\"top_units\":\"screen\"},\"id\":\"07653174-3d27-4cc5-a495-672ad6721b6e\",\"type\":\"BoxAnnotation\"},{\"attributes\":{\"dimension\":1,\"plot\":{\"id\":\"3492d33f-6a3b-4723-ac3c-e81be9d5dbcb\",\"subtype\":\"Figure\",\"type\":\"Plot\"},\"ticker\":{\"id\":\"9df7caee-63be-487a-8913-2ff7069943ff\",\"type\":\"BasicTicker\"}},\"id\":\"a3ef9039-d5be-4058-95bc-a2f2d346218e\",\"type\":\"Grid\"},{\"attributes\":{\"toolbar\":{\"id\":\"2a93a995-357f-4110-b02b-36b13bcc4057\",\"type\":\"ProxyToolbar\"}},\"id\":\"d34aee21-dae8-455d-aacf-73ba965381a8\",\"type\":\"ToolbarBox\"},{\"attributes\":{\"fill_color\":{\"value\":null},\"line_color\":{\"value\":\"red\"},\"size\":{\"field\":\"cyl\",\"units\":\"screen\"},\"x\":{\"field\":\"mpg\"},\"y\":{\"field\":\"displ\"}},\"id\":\"7b1a0db5-1529-443d-a214-b6281e1f053a\",\"type\":\"Circle\"},{\"attributes\":{\"plot\":{\"id\":\"5b45f574-705b-4dbe-aa1c-b754111dbc88\",\"subtype\":\"Figure\",\"type\":\"Plot\"},\"ticker\":{\"id\":\"41b93bd7-373f-414f-bd0a-f298bf00a8fb\",\"type\":\"BasicTicker\"}},\"id\":\"d1c51ecf-7a16-4028-8b66-690e53521228\",\"type\":\"Grid\"},{\"attributes\":{},\"id\":\"7d7b3400-2ebb-4d24-b2fd-ec8adad9fd5f\",\"type\":\"Selection\"},{\"attributes\":{\"data_source\":{\"id\":\"d974326b-33fb-4552-84c2-6177e9453f85\",\"type\":\"ColumnDataSource\"},\"glyph\":{\"id\":\"7b1a0db5-1529-443d-a214-b6281e1f053a\",\"type\":\"Circle\"},\"hover_glyph\":null,\"muted_glyph\":null,\"nonselection_glyph\":{\"id\":\"21c6e380-be49-4543-904a-cd03275d3334\",\"type\":\"Circle\"},\"selection_glyph\":null,\"view\":{\"id\":\"69d7b488-7878-44bf-b686-f828b2f69c15\",\"type\":\"CDSView\"}},\"id\":\"2f9f1d17-8932-4255-9613-580940d08043\",\"type\":\"GlyphRenderer\"},{\"attributes\":{\"plot\":{\"id\":\"3492d33f-6a3b-4723-ac3c-e81be9d5dbcb\",\"subtype\":\"Figure\",\"type\":\"Plot\"},\"ticker\":{\"id\":\"29aef531-4694-4067-8508-6ae30049a81e\",\"type\":\"BasicTicker\"}},\"id\":\"e2b43aec-7295-4ce1-99f0-c57bfc19d3ea\",\"type\":\"Grid\"},{\"attributes\":{\"fill_alpha\":{\"value\":0.5},\"fill_color\":{\"value\":\"lightgrey\"},\"level\":\"overlay\",\"line_alpha\":{\"value\":1.0},\"line_color\":{\"value\":\"black\"},\"line_dash\":[4,4],\"line_width\":{\"value\":2},\"plot\":null,\"xs_units\":\"screen\",\"ys_units\":\"screen\"},\"id\":\"662ac094-01cf-48d8-bf22-7bfec7210826\",\"type\":\"PolyAnnotation\"},{\"attributes\":{\"dimension\":1,\"plot\":{\"id\":\"5b45f574-705b-4dbe-aa1c-b754111dbc88\",\"subtype\":\"Figure\",\"type\":\"Plot\"},\"ticker\":{\"id\":\"d2bd386f-c6d9-4f30-afa1-0022dae3bdb6\",\"type\":\"BasicTicker\"}},\"id\":\"a35fecc1-f190-42f8-b777-68cf551a13e0\",\"type\":\"Grid\"},{\"attributes\":{\"formatter\":{\"id\":\"fc997f8c-65d0-4946-b797-70aecafda14b\",\"type\":\"BasicTickFormatter\"},\"plot\":{\"id\":\"108a9df1-c7dc-4dd8-93f4-6ef11a764c62\",\"subtype\":\"Figure\",\"type\":\"Plot\"},\"ticker\":{\"id\":\"a6316d45-4b2d-47eb-be52-6cd3ab84e396\",\"type\":\"BasicTicker\"}},\"id\":\"4913db13-fbfa-46fb-97ea-8dab52923318\",\"type\":\"LinearAxis\"},{\"attributes\":{\"formatter\":{\"id\":\"eb2f0e7a-d367-4d03-a9ee-e0b01200a9eb\",\"type\":\"BasicTickFormatter\"},\"plot\":{\"id\":\"3492d33f-6a3b-4723-ac3c-e81be9d5dbcb\",\"subtype\":\"Figure\",\"type\":\"Plot\"},\"ticker\":{\"id\":\"29aef531-4694-4067-8508-6ae30049a81e\",\"type\":\"BasicTicker\"}},\"id\":\"2937c708-30bd-4325-9dd4-cd2a00ec7a1c\",\"type\":\"LinearAxis\"},{\"attributes\":{\"callback\":null},\"id\":\"5997a9ec-e438-4658-b7d0-3071b2064e06\",\"type\":\"DataRange1d\"},{\"attributes\":{\"bottom_units\":\"screen\",\"fill_alpha\":{\"value\":0.5},\"fill_color\":{\"value\":\"lightgrey\"},\"left_units\":\"screen\",\"level\":\"overlay\",\"line_alpha\":{\"value\":1.0},\"line_color\":{\"value\":\"black\"},\"line_dash\":[4,4],\"line_width\":{\"value\":2},\"plot\":null,\"render_mode\":\"css\",\"right_units\":\"screen\",\"top_units\":\"screen\"},\"id\":\"e98124fe-e8b3-4e19-9439-ed4a1aee5e3b\",\"type\":\"BoxAnnotation\"},{\"attributes\":{\"children\":[{\"id\":\"5ca5d37a-32c6-4327-943a-4040d936d035\",\"type\":\"Column\"},{\"id\":\"d34aee21-dae8-455d-aacf-73ba965381a8\",\"type\":\"ToolbarBox\"}]},\"id\":\"f45a8a50-7184-4c9f-a979-e5d77e1eecef\",\"type\":\"Row\"},{\"attributes\":{},\"id\":\"1565d7a4-2965-42a2-8a8c-645fa20c3180\",\"type\":\"BasicTickFormatter\"},{\"attributes\":{\"formatter\":{\"id\":\"c5410e18-bdcf-4e8b-b07e-4d4d5d07947d\",\"type\":\"BasicTickFormatter\"},\"plot\":{\"id\":\"3492d33f-6a3b-4723-ac3c-e81be9d5dbcb\",\"subtype\":\"Figure\",\"type\":\"Plot\"},\"ticker\":{\"id\":\"9df7caee-63be-487a-8913-2ff7069943ff\",\"type\":\"BasicTicker\"}},\"id\":\"40befc8c-8064-4ae1-bd88-511ff3cb6dff\",\"type\":\"LinearAxis\"},{\"attributes\":{},\"id\":\"1782d61c-8b69-4d37-bbfa-1d61c97b1fe7\",\"type\":\"LinearScale\"},{\"attributes\":{\"callback\":null,\"overlay\":{\"id\":\"cfeb145f-52db-4ae5-9a2a-0ec0d4561415\",\"type\":\"BoxAnnotation\"}},\"id\":\"23e320ad-9dd7-450c-9181-780842fbfffc\",\"type\":\"BoxSelectTool\"},{\"attributes\":{},\"id\":\"bb251479-cd93-4715-b49a-1fb4d08036aa\",\"type\":\"WheelZoomTool\"},{\"attributes\":{},\"id\":\"a6316d45-4b2d-47eb-be52-6cd3ab84e396\",\"type\":\"BasicTicker\"},{\"attributes\":{\"plot\":null,\"text\":\"MPG by Year\"},\"id\":\"d196ef01-482f-4a4c-a0f5-040c1ada86c3\",\"type\":\"Title\"},{\"attributes\":{\"children\":[{\"id\":\"5b45f574-705b-4dbe-aa1c-b754111dbc88\",\"subtype\":\"Figure\",\"type\":\"Plot\"},{\"id\":\"3492d33f-6a3b-4723-ac3c-e81be9d5dbcb\",\"subtype\":\"Figure\",\"type\":\"Plot\"},{\"id\":\"108a9df1-c7dc-4dd8-93f4-6ef11a764c62\",\"subtype\":\"Figure\",\"type\":\"Plot\"}]},\"id\":\"5ec13a8e-cbce-47cf-bc29-6af0b87685e2\",\"type\":\"Row\"},{\"attributes\":{\"below\":[{\"id\":\"4913db13-fbfa-46fb-97ea-8dab52923318\",\"type\":\"LinearAxis\"}],\"left\":[{\"id\":\"77cae6d1-effd-4db5-86b8-e38c0d6d2ff2\",\"type\":\"LinearAxis\"}],\"plot_height\":300,\"plot_width\":300,\"renderers\":[{\"id\":\"4913db13-fbfa-46fb-97ea-8dab52923318\",\"type\":\"LinearAxis\"},{\"id\":\"7c437abe-0069-4d6e-8454-2bf5a61780b2\",\"type\":\"Grid\"},{\"id\":\"77cae6d1-effd-4db5-86b8-e38c0d6d2ff2\",\"type\":\"LinearAxis\"},{\"id\":\"d625609a-f0e4-4471-b285-5f0ca15c1eaf\",\"type\":\"Grid\"},{\"id\":\"49328a09-eab9-48eb-ad97-d1c61c9ae948\",\"type\":\"BoxAnnotation\"},{\"id\":\"cfeb145f-52db-4ae5-9a2a-0ec0d4561415\",\"type\":\"BoxAnnotation\"},{\"id\":\"662ac094-01cf-48d8-bf22-7bfec7210826\",\"type\":\"PolyAnnotation\"},{\"id\":\"2f9f1d17-8932-4255-9613-580940d08043\",\"type\":\"GlyphRenderer\"}],\"title\":{\"id\":\"fd43b49d-7ee4-4a08-86ea-8718e22f326e\",\"type\":\"Title\"},\"toolbar\":{\"id\":\"97dc1320-8901-4f56-9f58-77937028c23b\",\"type\":\"Toolbar\"},\"toolbar_location\":null,\"x_range\":{\"id\":\"5997a9ec-e438-4658-b7d0-3071b2064e06\",\"type\":\"DataRange1d\"},\"x_scale\":{\"id\":\"8caaa54b-8cf7-48f0-b378-995837cdc9a8\",\"type\":\"LinearScale\"},\"y_range\":{\"id\":\"b51fc315-99c4-43d5-9125-8d97a12550b5\",\"type\":\"DataRange1d\"},\"y_scale\":{\"id\":\"06792786-ab05-4c5e-b224-bb9d652e3f03\",\"type\":\"LinearScale\"}},\"id\":\"108a9df1-c7dc-4dd8-93f4-6ef11a764c62\",\"subtype\":\"Figure\",\"type\":\"Plot\"},{\"attributes\":{\"formatter\":{\"id\":\"1565d7a4-2965-42a2-8a8c-645fa20c3180\",\"type\":\"BasicTickFormatter\"},\"plot\":{\"id\":\"5b45f574-705b-4dbe-aa1c-b754111dbc88\",\"subtype\":\"Figure\",\"type\":\"Plot\"},\"ticker\":{\"id\":\"41b93bd7-373f-414f-bd0a-f298bf00a8fb\",\"type\":\"BasicTicker\"}},\"id\":\"ba8964da-5c1f-4fa7-a25a-7f222b1261e2\",\"type\":\"LinearAxis\"},{\"attributes\":{},\"id\":\"41b93bd7-373f-414f-bd0a-f298bf00a8fb\",\"type\":\"BasicTicker\"},{\"attributes\":{\"plot\":null,\"text\":\"HP vs. Displacement\"},\"id\":\"921437aa-2c25-42cd-bfda-f52597c02cc5\",\"type\":\"Title\"},{\"attributes\":{\"data_source\":{\"id\":\"d974326b-33fb-4552-84c2-6177e9453f85\",\"type\":\"ColumnDataSource\"},\"glyph\":{\"id\":\"00e94cb8-99c5-4345-95cc-31dcda019afc\",\"type\":\"Circle\"},\"hover_glyph\":null,\"muted_glyph\":null,\"nonselection_glyph\":{\"id\":\"d49044d6-4b2a-47bd-8ab2-8203136e66c7\",\"type\":\"Circle\"},\"selection_glyph\":null,\"view\":{\"id\":\"ed0e8b58-5d38-4492-9424-fe49a06d1978\",\"type\":\"CDSView\"}},\"id\":\"393b89d2-306f-4f0f-ab25-ee9d8bcb0985\",\"type\":\"GlyphRenderer\"},{\"attributes\":{\"dimension\":1,\"plot\":{\"id\":\"108a9df1-c7dc-4dd8-93f4-6ef11a764c62\",\"subtype\":\"Figure\",\"type\":\"Plot\"},\"ticker\":{\"id\":\"c257bb12-da72-426d-953f-e5f517815c19\",\"type\":\"BasicTicker\"}},\"id\":\"d625609a-f0e4-4471-b285-5f0ca15c1eaf\",\"type\":\"Grid\"},{\"attributes\":{},\"id\":\"1ba0d6ea-29fd-423d-95f7-a4c8431e47f5\",\"type\":\"LinearScale\"},{\"attributes\":{},\"id\":\"9df7caee-63be-487a-8913-2ff7069943ff\",\"type\":\"BasicTicker\"},{\"attributes\":{\"overlay\":{\"id\":\"49328a09-eab9-48eb-ad97-d1c61c9ae948\",\"type\":\"BoxAnnotation\"}},\"id\":\"50f4878c-0841-473a-b7a3-e5a8af0319e2\",\"type\":\"BoxZoomTool\"},{\"attributes\":{\"callback\":null,\"data\":{\"accel\":{\"__ndarray__\":\"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\",\"dtype\":\"float64\",\"shape\":[392]},\"cyl\":[8,8,8,8,8,8,8,8,8,8,8,8,8,8,4,6,6,6,4,4,4,4,4,4,6,8,8,8,8,4,4,4,6,6,6,6,6,8,8,8,8,8,8,8,6,4,6,6,4,4,4,4,4,4,4,4,4,4,4,4,4,8,8,8,8,8,8,8,8,8,3,8,8,8,8,4,4,4,4,4,4,4,4,4,8,8,8,8,8,8,8,8,8,8,8,8,6,6,6,6,6,4,8,8,8,8,6,4,4,4,3,4,6,4,8,8,4,4,4,4,8,4,6,8,6,6,6,4,4,4,4,6,6,6,8,8,8,8,8,4,4,4,4,4,4,4,4,4,4,4,6,6,6,6,8,8,8,8,6,6,6,6,6,8,8,4,4,6,4,4,4,4,6,4,6,4,4,4,4,4,4,4,4,4,4,8,8,8,8,6,6,6,6,4,4,4,4,6,6,6,6,4,4,4,4,4,8,4,6,6,8,8,8,8,4,4,4,4,4,8,8,8,8,6,6,6,6,8,8,8,8,4,4,4,4,4,4,4,4,6,4,3,4,4,4,4,4,8,8,8,6,6,6,4,6,6,6,6,6,6,8,6,8,8,4,4,4,4,4,4,4,4,5,6,4,6,4,4,6,6,4,6,6,8,8,8,8,8,8,8,8,4,4,4,4,5,8,4,8,4,4,4,4,4,6,6,4,4,4,4,4,4,4,4,6,4,4,4,4,4,4,4,4,4,4,5,4,4,4,4,6,3,4,4,4,4,4,6,4,4,4,4,4,4,4,4,4,4,4,4,4,4,4,4,4,6,6,6,6,8,6,6,4,4,4,4,4,4,4,4,4,4,4,4,4,4,4,4,4,4,6,6,4,6,4,4,4,4,4,4,4,4],\"displ\":{\"__ndarray__\":\"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\",\"dtype\":\"float64\",\"shape\":[392]},\"hp\":[130,165,150,150,140,198,220,215,225,190,170,160,150,225,95,95,97,85,88,46,87,90,95,113,90,215,200,210,193,88,90,95,100,105,100,88,100,165,175,153,150,180,170,175,110,72,100,88,86,90,70,76,65,69,60,70,95,80,54,90,86,165,175,150,153,150,208,155,160,190,97,150,130,140,150,112,76,87,69,86,92,97,80,88,175,150,145,137,150,198,150,158,150,215,225,175,105,100,100,88,95,46,150,167,170,180,100,88,72,94,90,85,107,90,145,230,49,75,91,112,150,110,122,180,95,100,100,67,80,65,75,100,110,105,140,150,150,140,150,83,67,78,52,61,75,75,75,97,93,67,95,105,72,72,170,145,150,148,110,105,110,95,110,110,129,75,83,100,78,96,71,97,97,70,90,95,88,98,115,53,86,81,92,79,83,140,150,120,152,100,105,81,90,52,60,70,53,100,78,110,95,71,70,75,72,102,150,88,108,120,180,145,130,150,68,80,58,96,70,145,110,145,130,110,105,100,98,180,170,190,149,78,88,75,89,63,83,67,78,97,110,110,48,66,52,70,60,110,140,139,105,95,85,88,100,90,105,85,110,120,145,165,139,140,68,95,97,75,95,105,85,97,103,125,115,133,71,68,115,85,88,90,110,130,129,138,135,155,142,125,150,71,65,80,80,77,125,71,90,70,70,65,69,90,115,115,90,76,60,70,65,90,88,90,90,78,90,75,92,75,65,105,65,48,48,67,67,67,67,62,132,100,88,72,84,84,92,110,84,58,64,60,67,65,62,68,63,65,65,74,75,75,100,74,80,76,116,120,110,105,88,85,88,88,88,85,84,90,92,74,68,68,63,70,88,75,70,67,67,67,110,85,92,112,96,84,90,86,52,84,79,82],\"index\":[0,1,2,3,4,5,6,7,8,9,10,11,12,13,14,15,16,17,18,19,20,21,22,23,24,25,26,27,28,29,30,31,32,33,34,35,36,37,38,39,40,41,42,43,44,45,46,47,48,49,50,51,52,53,54,55,56,57,58,59,60,61,62,63,64,65,66,67,68,69,70,71,72,73,74,75,76,77,78,79,80,81,82,83,84,85,86,87,88,89,90,91,92,93,94,95,96,97,98,99,100,101,102,103,104,105,106,107,108,109,110,111,112,113,114,115,116,117,118,119,120,121,122,123,124,125,126,127,128,129,130,131,132,133,134,135,136,137,138,139,140,141,142,143,144,145,146,147,148,149,150,151,152,153,154,155,156,157,158,159,160,161,162,163,164,165,166,167,168,169,170,171,172,173,174,175,176,177,178,179,180,181,182,183,184,185,186,187,188,189,190,191,192,193,194,195,196,197,198,199,200,201,202,203,204,205,206,207,208,209,210,211,212,213,214,215,216,217,218,219,220,221,222,223,224,225,226,227,228,229,230,231,232,233,234,235,236,237,238,239,240,241,242,243,244,245,246,247,248,249,250,251,252,253,254,255,256,257,258,259,260,261,262,263,264,265,266,267,268,269,270,271,272,273,274,275,276,277,278,279,280,281,282,283,284,285,286,287,288,289,290,291,292,293,294,295,296,297,298,299,300,301,302,303,304,305,306,307,308,309,310,311,312,313,314,315,316,317,318,319,320,321,322,323,324,325,326,327,328,329,330,331,332,333,334,335,336,337,338,339,340,341,342,343,344,345,346,347,348,349,350,351,352,353,354,355,356,357,358,359,360,361,362,363,364,365,366,367,368,369,370,371,372,373,374,375,376,377,378,379,380,381,382,383,384,385,386,387,388,389,390,391],\"mpg\":{\"__ndarray__\":\"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\",\"dtype\":\"float64\",\"shape\":[392]},\"name\":[\"chevrolet chevelle malibu\",\"buick skylark 320\",\"plymouth satellite\",\"amc rebel sst\",\"ford torino\",\"ford galaxie 500\",\"chevrolet impala\",\"plymouth fury iii\",\"pontiac catalina\",\"amc ambassador dpl\",\"dodge challenger se\",\"plymouth 'cuda 340\",\"chevrolet monte carlo\",\"buick estate wagon (sw)\",\"toyota corona mark ii\",\"plymouth duster\",\"amc hornet\",\"ford maverick\",\"datsun pl510\",\"volkswagen 1131 deluxe sedan\",\"peugeot 504\",\"audi 100 ls\",\"saab 99e\",\"bmw 2002\",\"amc gremlin\",\"ford f250\",\"chevy c20\",\"dodge d200\",\"hi 1200d\",\"datsun pl510\",\"chevrolet vega 2300\",\"toyota corona\",\"amc gremlin\",\"plymouth satellite custom\",\"chevrolet chevelle malibu\",\"ford torino 500\",\"amc matador\",\"chevrolet impala\",\"pontiac catalina brougham\",\"ford galaxie 500\",\"plymouth fury iii\",\"dodge monaco (sw)\",\"ford country squire (sw)\",\"pontiac safari (sw)\",\"amc hornet sportabout (sw)\",\"chevrolet vega (sw)\",\"pontiac firebird\",\"ford mustang\",\"mercury capri 2000\",\"opel 1900\",\"peugeot 304\",\"fiat 124b\",\"toyota corolla 1200\",\"datsun 1200\",\"volkswagen model 111\",\"plymouth cricket\",\"toyota corona hardtop\",\"dodge colt hardtop\",\"volkswagen type 3\",\"chevrolet vega\",\"ford pinto runabout\",\"chevrolet impala\",\"pontiac catalina\",\"plymouth fury iii\",\"ford galaxie 500\",\"amc ambassador sst\",\"mercury marquis\",\"buick lesabre custom\",\"oldsmobile delta 88 royale\",\"chrysler newport royal\",\"mazda rx2 coupe\",\"amc matador (sw)\",\"chevrolet chevelle concours (sw)\",\"ford gran torino (sw)\",\"plymouth satellite custom (sw)\",\"volvo 145e (sw)\",\"volkswagen 411 (sw)\",\"peugeot 504 (sw)\",\"renault 12 (sw)\",\"ford pinto (sw)\",\"datsun 510 (sw)\",\"toyouta corona mark ii (sw)\",\"dodge colt (sw)\",\"toyota corolla 1600 (sw)\",\"buick century 350\",\"amc matador\",\"chevrolet malibu\",\"ford gran torino\",\"dodge coronet custom\",\"mercury marquis brougham\",\"chevrolet caprice classic\",\"ford ltd\",\"plymouth fury gran sedan\",\"chrysler new yorker brougham\",\"buick electra 225 custom\",\"amc ambassador brougham\",\"plymouth valiant\",\"chevrolet nova custom\",\"amc hornet\",\"ford maverick\",\"plymouth duster\",\"volkswagen super beetle\",\"chevrolet impala\",\"ford country\",\"plymouth custom suburb\",\"oldsmobile vista cruiser\",\"amc gremlin\",\"toyota carina\",\"chevrolet vega\",\"datsun 610\",\"maxda rx3\",\"ford pinto\",\"mercury capri v6\",\"fiat 124 sport coupe\",\"chevrolet monte carlo s\",\"pontiac grand prix\",\"fiat 128\",\"opel manta\",\"audi 100ls\",\"volvo 144ea\",\"dodge dart custom\",\"saab 99le\",\"toyota mark ii\",\"oldsmobile omega\",\"plymouth duster\",\"amc hornet\",\"chevrolet nova\",\"datsun b210\",\"ford pinto\",\"toyota corolla 1200\",\"chevrolet vega\",\"chevrolet chevelle malibu classic\",\"amc matador\",\"plymouth satellite sebring\",\"ford gran torino\",\"buick century luxus (sw)\",\"dodge coronet custom (sw)\",\"ford gran torino (sw)\",\"amc matador (sw)\",\"audi fox\",\"volkswagen dasher\",\"opel manta\",\"toyota corona\",\"datsun 710\",\"dodge colt\",\"fiat 128\",\"fiat 124 tc\",\"honda civic\",\"subaru\",\"fiat x1.9\",\"plymouth valiant custom\",\"chevrolet nova\",\"mercury monarch\",\"ford maverick\",\"pontiac catalina\",\"chevrolet bel air\",\"plymouth grand fury\",\"ford ltd\",\"buick century\",\"chevroelt chevelle malibu\",\"amc matador\",\"plymouth fury\",\"buick skyhawk\",\"chevrolet monza 2+2\",\"ford mustang ii\",\"toyota corolla\",\"ford pinto\",\"amc gremlin\",\"pontiac astro\",\"toyota corona\",\"volkswagen dasher\",\"datsun 710\",\"ford pinto\",\"volkswagen rabbit\",\"amc pacer\",\"audi 100ls\",\"peugeot 504\",\"volvo 244dl\",\"saab 99le\",\"honda civic cvcc\",\"fiat 131\",\"opel 1900\",\"capri ii\",\"dodge colt\",\"renault 12tl\",\"chevrolet chevelle malibu classic\",\"dodge coronet brougham\",\"amc matador\",\"ford gran torino\",\"plymouth valiant\",\"chevrolet nova\",\"ford maverick\",\"amc hornet\",\"chevrolet chevette\",\"chevrolet woody\",\"vw rabbit\",\"honda civic\",\"dodge aspen se\",\"ford granada ghia\",\"pontiac ventura sj\",\"amc pacer d/l\",\"volkswagen rabbit\",\"datsun b-210\",\"toyota corolla\",\"ford pinto\",\"volvo 245\",\"plymouth volare premier v8\",\"peugeot 504\",\"toyota mark ii\",\"mercedes-benz 280s\",\"cadillac seville\",\"chevy c10\",\"ford f108\",\"dodge d100\",\"honda accord cvcc\",\"buick opel isuzu deluxe\",\"renault 5 gtl\",\"plymouth arrow gs\",\"datsun f-10 hatchback\",\"chevrolet caprice classic\",\"oldsmobile cutlass supreme\",\"dodge monaco brougham\",\"mercury cougar brougham\",\"chevrolet concours\",\"buick skylark\",\"plymouth volare custom\",\"ford granada\",\"pontiac grand prix lj\",\"chevrolet monte carlo landau\",\"chrysler cordoba\",\"ford thunderbird\",\"volkswagen rabbit custom\",\"pontiac sunbird coupe\",\"toyota corolla liftback\",\"ford mustang ii 2+2\",\"chevrolet chevette\",\"dodge colt m/m\",\"subaru dl\",\"volkswagen dasher\",\"datsun 810\",\"bmw 320i\",\"mazda rx-4\",\"volkswagen rabbit custom diesel\",\"ford fiesta\",\"mazda glc deluxe\",\"datsun b210 gx\",\"honda civic cvcc\",\"oldsmobile cutlass salon brougham\",\"dodge diplomat\",\"mercury monarch ghia\",\"pontiac phoenix lj\",\"chevrolet malibu\",\"ford fairmont (auto)\",\"ford fairmont (man)\",\"plymouth volare\",\"amc concord\",\"buick century special\",\"mercury zephyr\",\"dodge aspen\",\"amc concord d/l\",\"chevrolet monte carlo landau\",\"buick regal sport coupe (turbo)\",\"ford futura\",\"dodge magnum xe\",\"chevrolet chevette\",\"toyota corona\",\"datsun 510\",\"dodge omni\",\"toyota celica gt liftback\",\"plymouth sapporo\",\"oldsmobile starfire sx\",\"datsun 200-sx\",\"audi 5000\",\"volvo 264gl\",\"saab 99gle\",\"peugeot 604sl\",\"volkswagen scirocco\",\"honda accord lx\",\"pontiac lemans v6\",\"mercury zephyr 6\",\"ford fairmont 4\",\"amc concord dl 6\",\"dodge aspen 6\",\"chevrolet caprice classic\",\"ford ltd landau\",\"mercury grand marquis\",\"dodge st. regis\",\"buick estate wagon (sw)\",\"ford country squire (sw)\",\"chevrolet malibu classic (sw)\",\"chrysler lebaron town @ country (sw)\",\"vw rabbit custom\",\"maxda glc deluxe\",\"dodge colt hatchback custom\",\"amc spirit dl\",\"mercedes benz 300d\",\"cadillac eldorado\",\"peugeot 504\",\"oldsmobile cutlass salon brougham\",\"plymouth horizon\",\"plymouth horizon tc3\",\"datsun 210\",\"fiat strada custom\",\"buick skylark limited\",\"chevrolet citation\",\"oldsmobile omega brougham\",\"pontiac phoenix\",\"vw rabbit\",\"toyota corolla tercel\",\"chevrolet chevette\",\"datsun 310\",\"chevrolet citation\",\"ford fairmont\",\"amc concord\",\"dodge aspen\",\"audi 4000\",\"toyota corona liftback\",\"mazda 626\",\"datsun 510 hatchback\",\"toyota corolla\",\"mazda glc\",\"dodge colt\",\"datsun 210\",\"vw rabbit c (diesel)\",\"vw dasher (diesel)\",\"audi 5000s (diesel)\",\"mercedes-benz 240d\",\"honda civic 1500 gl\",\"subaru dl\",\"vokswagen rabbit\",\"datsun 280-zx\",\"mazda rx-7 gs\",\"triumph tr7 coupe\",\"honda accord\",\"plymouth reliant\",\"buick skylark\",\"dodge aries wagon (sw)\",\"chevrolet citation\",\"plymouth reliant\",\"toyota starlet\",\"plymouth champ\",\"honda civic 1300\",\"subaru\",\"datsun 210 mpg\",\"toyota tercel\",\"mazda glc 4\",\"plymouth horizon 4\",\"ford escort 4w\",\"ford escort 2h\",\"volkswagen jetta\",\"honda prelude\",\"toyota corolla\",\"datsun 200sx\",\"mazda 626\",\"peugeot 505s turbo diesel\",\"volvo diesel\",\"toyota cressida\",\"datsun 810 maxima\",\"buick century\",\"oldsmobile cutlass ls\",\"ford granada gl\",\"chrysler lebaron salon\",\"chevrolet cavalier\",\"chevrolet cavalier wagon\",\"chevrolet cavalier 2-door\",\"pontiac j2000 se hatchback\",\"dodge aries se\",\"pontiac phoenix\",\"ford fairmont futura\",\"volkswagen rabbit l\",\"mazda glc custom l\",\"mazda glc custom\",\"plymouth horizon miser\",\"mercury lynx l\",\"nissan stanza xe\",\"honda accord\",\"toyota corolla\",\"honda civic\",\"honda civic (auto)\",\"datsun 310 gx\",\"buick century limited\",\"oldsmobile cutlass ciera (diesel)\",\"chrysler lebaron medallion\",\"ford granada l\",\"toyota celica gt\",\"dodge charger 2.2\",\"chevrolet camaro\",\"ford mustang gl\",\"vw pickup\",\"dodge rampage\",\"ford ranger\",\"chevy s-10\"],\"origin\":[1,1,1,1,1,1,1,1,1,1,1,1,1,1,3,1,1,1,3,2,2,2,2,2,1,1,1,1,1,3,1,3,1,1,1,1,1,1,1,1,1,1,1,1,1,1,1,1,1,2,2,2,3,3,2,1,3,1,2,1,1,1,1,1,1,1,1,1,1,1,3,1,1,1,1,2,2,2,2,1,3,3,1,3,1,1,1,1,1,1,1,1,1,1,1,1,1,1,1,1,1,2,1,1,1,1,1,3,1,3,3,1,1,2,1,1,2,2,2,2,1,2,3,1,1,1,1,3,1,3,1,1,1,1,1,1,1,1,1,2,2,2,3,3,1,2,2,3,3,2,1,1,1,1,1,1,1,1,1,1,1,1,1,1,1,3,1,1,1,3,2,3,1,2,1,2,2,2,2,3,2,2,1,1,2,1,1,1,1,1,1,1,1,1,1,2,3,1,1,1,1,2,3,3,1,2,1,2,3,2,1,1,1,1,3,1,2,1,3,1,1,1,1,1,1,1,1,1,1,1,1,2,1,3,1,1,1,3,2,3,2,3,2,1,3,3,3,1,1,1,1,1,1,1,1,1,1,1,1,1,1,1,1,1,1,3,3,1,3,1,1,3,2,2,2,2,2,3,1,1,1,1,1,1,1,1,1,1,1,1,1,2,3,1,1,2,1,2,1,1,1,3,2,1,1,1,1,2,3,1,3,1,1,1,1,2,3,3,3,3,3,1,3,2,2,2,2,3,3,2,3,3,2,3,1,1,1,1,1,3,1,3,3,3,3,3,1,1,1,2,3,3,3,3,2,2,3,3,1,1,1,1,1,1,1,1,1,1,1,2,3,3,1,1,3,3,3,3,3,3,1,1,1,1,3,1,1,1,2,1,1,1],\"weight\":[3504,3693,3436,3433,3449,4341,4354,4312,4425,3850,3563,3609,3761,3086,2372,2833,2774,2587,2130,1835,2672,2430,2375,2234,2648,4615,4376,4382,4732,2130,2264,2228,2634,3439,3329,3302,3288,4209,4464,4154,4096,4955,4746,5140,2962,2408,3282,3139,2220,2123,2074,2065,1773,1613,1834,1955,2278,2126,2254,2408,2226,4274,4385,4135,4129,3672,4633,4502,4456,4422,2330,3892,4098,4294,4077,2933,2511,2979,2189,2395,2288,2506,2164,2100,4100,3672,3988,4042,3777,4952,4464,4363,4237,4735,4951,3821,3121,3278,2945,3021,2904,1950,4997,4906,4654,4499,2789,2279,2401,2379,2124,2310,2472,2265,4082,4278,1867,2158,2582,2868,3399,2660,2807,3664,3102,2901,3336,1950,2451,1836,2542,3781,3632,3613,4141,4699,4457,4638,4257,2219,1963,2300,1649,2003,2125,2108,2246,2489,2391,2000,3264,3459,3432,3158,4668,4440,4498,4657,3907,3897,3730,3785,3039,3221,3169,2171,2639,2914,2592,2702,2223,2545,2984,1937,3211,2694,2957,2945,2671,1795,2464,2220,2572,2255,2202,4215,4190,3962,4215,3233,3353,3012,3085,2035,2164,1937,1795,3651,3574,3645,3193,1825,1990,2155,2565,3150,3940,3270,2930,3820,4380,4055,3870,3755,2045,2155,1825,2300,1945,3880,4060,4140,4295,3520,3425,3630,3525,4220,4165,4325,4335,1940,2740,2265,2755,2051,2075,1985,2190,2815,2600,2720,1985,1800,1985,2070,1800,3365,3735,3570,3535,3155,2965,2720,3430,3210,3380,3070,3620,3410,3425,3445,3205,4080,2155,2560,2300,2230,2515,2745,2855,2405,2830,3140,2795,3410,1990,2135,3245,2990,2890,3265,3360,3840,3725,3955,3830,4360,4054,3605,3940,1925,1975,1915,2670,3530,3900,3190,3420,2200,2150,2020,2130,2670,2595,2700,2556,2144,1968,2120,2019,2678,2870,3003,3381,2188,2711,2542,2434,2265,2110,2800,2110,2085,2335,2950,3250,1850,2145,1845,2910,2420,2500,2290,2490,2635,2620,2725,2385,1755,1875,1760,2065,1975,2050,1985,2215,2045,2380,2190,2210,2350,2615,2635,3230,3160,2900,2930,3415,3725,3060,3465,2605,2640,2395,2575,2525,2735,2865,1980,2025,1970,2125,2125,2160,2205,2245,1965,1965,1995,2945,3015,2585,2835,2665,2370,2950,2790,2130,2295,2625,2720],\"yr\":[70,70,70,70,70,70,70,70,70,70,70,70,70,70,70,70,70,70,70,70,70,70,70,70,70,70,70,70,70,71,71,71,71,71,71,71,71,71,71,71,71,71,71,71,71,71,71,71,71,71,71,71,71,71,71,71,72,72,72,72,72,72,72,72,72,72,72,72,72,72,72,72,72,72,72,72,72,72,72,72,72,72,72,72,73,73,73,73,73,73,73,73,73,73,73,73,73,73,73,73,73,73,73,73,73,73,73,73,73,73,73,73,73,73,73,73,73,73,73,73,73,73,73,73,74,74,74,74,74,74,74,74,74,74,74,74,74,74,74,74,74,74,74,74,74,74,74,74,74,74,75,75,75,75,75,75,75,75,75,75,75,75,75,75,75,75,75,75,75,75,75,75,75,75,75,75,75,75,75,75,76,76,76,76,76,76,76,76,76,76,76,76,76,76,76,76,76,76,76,76,76,76,76,76,76,76,76,76,76,76,76,76,76,76,77,77,77,77,77,77,77,77,77,77,77,77,77,77,77,77,77,77,77,77,77,77,77,77,77,77,77,77,78,78,78,78,78,78,78,78,78,78,78,78,78,78,78,78,78,78,78,78,78,78,78,78,78,78,78,78,78,78,78,78,78,78,78,78,79,79,79,79,79,79,79,79,79,79,79,79,79,79,79,79,79,79,79,79,79,79,79,79,79,79,79,79,79,80,80,80,80,80,80,80,80,80,80,80,80,80,80,80,80,80,80,80,80,80,80,80,80,80,80,80,81,81,81,81,81,81,81,81,81,81,81,81,81,81,81,81,81,81,81,81,81,81,81,81,81,81,81,81,82,82,82,82,82,82,82,82,82,82,82,82,82,82,82,82,82,82,82,82,82,82,82,82,82,82,82,82,82,82]},\"selected\":{\"id\":\"7d7b3400-2ebb-4d24-b2fd-ec8adad9fd5f\",\"type\":\"Selection\"},\"selection_policy\":{\"id\":\"7ea02afc-1091-412a-a282-de31097d5d8f\",\"type\":\"UnionRenderers\"}},\"id\":\"d974326b-33fb-4552-84c2-6177e9453f85\",\"type\":\"ColumnDataSource\"},{\"attributes\":{\"fill_alpha\":{\"value\":0.1},\"fill_color\":{\"value\":\"#1f77b4\"},\"line_alpha\":{\"value\":0.1},\"line_color\":{\"value\":\"#1f77b4\"},\"size\":{\"field\":\"cyl\",\"units\":\"screen\"},\"x\":{\"field\":\"mpg\"},\"y\":{\"field\":\"displ\"}},\"id\":\"21c6e380-be49-4543-904a-cd03275d3334\",\"type\":\"Circle\"},{\"attributes\":{},\"id\":\"8caaa54b-8cf7-48f0-b378-995837cdc9a8\",\"type\":\"LinearScale\"},{\"attributes\":{\"data_source\":{\"id\":\"d974326b-33fb-4552-84c2-6177e9453f85\",\"type\":\"ColumnDataSource\"},\"glyph\":{\"id\":\"8c72aeb2-0523-4b89-a151-386237977740\",\"type\":\"Circle\"},\"hover_glyph\":null,\"muted_glyph\":null,\"nonselection_glyph\":{\"id\":\"c5698705-9054-4b7f-896e-e5f1b2493e75\",\"type\":\"Circle\"},\"selection_glyph\":null,\"view\":{\"id\":\"c2a956bb-7c75-44c6-84d1-b228560d0d83\",\"type\":\"CDSView\"}},\"id\":\"2e823c1e-4f2c-437c-b8e9-795610ec7354\",\"type\":\"GlyphRenderer\"},{\"attributes\":{},\"id\":\"fc997f8c-65d0-4946-b797-70aecafda14b\",\"type\":\"BasicTickFormatter\"},{\"attributes\":{\"active_drag\":\"auto\",\"active_inspect\":\"auto\",\"active_multi\":null,\"active_scroll\":\"auto\",\"active_tap\":\"auto\",\"tools\":[{\"id\":\"7055d611-7ffa-41d5-8073-8ffd5caee9fe\",\"type\":\"PanTool\"},{\"id\":\"bb251479-cd93-4715-b49a-1fb4d08036aa\",\"type\":\"WheelZoomTool\"},{\"id\":\"a432bd36-6556-4cc9-aa2a-9b95dac7b538\",\"type\":\"BoxZoomTool\"},{\"id\":\"70407e69-128d-4da0-a2a6-40289af24f5e\",\"type\":\"BoxSelectTool\"},{\"id\":\"e0e1c06e-c125-45b8-bf9c-9ad4f35247f2\",\"type\":\"LassoSelectTool\"}]},\"id\":\"188f6ae0-3bda-46b9-bcab-f1b9a57fa812\",\"type\":\"Toolbar\"},{\"attributes\":{},\"id\":\"29aef531-4694-4067-8508-6ae30049a81e\",\"type\":\"BasicTicker\"},{\"attributes\":{},\"id\":\"aca98ba7-6222-4652-9682-956845fe66dc\",\"type\":\"LinearScale\"},{\"attributes\":{\"bottom_units\":\"screen\",\"fill_alpha\":{\"value\":0.5},\"fill_color\":{\"value\":\"lightgrey\"},\"left_units\":\"screen\",\"level\":\"overlay\",\"line_alpha\":{\"value\":1.0},\"line_color\":{\"value\":\"black\"},\"line_dash\":[4,4],\"line_width\":{\"value\":2},\"plot\":null,\"render_mode\":\"css\",\"right_units\":\"screen\",\"top_units\":\"screen\"},\"id\":\"fff0201a-09c1-4ebb-a738-716a20c9ed25\",\"type\":\"BoxAnnotation\"},{\"attributes\":{},\"id\":\"4c5e947f-7b93-4633-a72d-e917077268a2\",\"type\":\"LinearScale\"},{\"attributes\":{\"overlay\":{\"id\":\"fff0201a-09c1-4ebb-a738-716a20c9ed25\",\"type\":\"BoxAnnotation\"}},\"id\":\"a432bd36-6556-4cc9-aa2a-9b95dac7b538\",\"type\":\"BoxZoomTool\"},{\"attributes\":{\"bottom_units\":\"screen\",\"fill_alpha\":{\"value\":0.5},\"fill_color\":{\"value\":\"lightgrey\"},\"left_units\":\"screen\",\"level\":\"overlay\",\"line_alpha\":{\"value\":1.0},\"line_color\":{\"value\":\"black\"},\"line_dash\":[4,4],\"line_width\":{\"value\":2},\"plot\":null,\"render_mode\":\"css\",\"right_units\":\"screen\",\"top_units\":\"screen\"},\"id\":\"49328a09-eab9-48eb-ad97-d1c61c9ae948\",\"type\":\"BoxAnnotation\"},{\"attributes\":{},\"id\":\"815ee431-91c4-4a81-a98a-2743d2e0364d\",\"type\":\"PanTool\"},{\"attributes\":{\"callback\":null},\"id\":\"725d9af6-a324-4627-8ec4-df02b38e5ba2\",\"type\":\"DataRange1d\"},{\"attributes\":{\"children\":[{\"id\":\"5ec13a8e-cbce-47cf-bc29-6af0b87685e2\",\"type\":\"Row\"}]},\"id\":\"5ca5d37a-32c6-4327-943a-4040d936d035\",\"type\":\"Column\"},{\"attributes\":{\"callback\":null,\"overlay\":{\"id\":\"4f72e8c0-f80b-463c-a6d1-67943de202f5\",\"type\":\"PolyAnnotation\"}},\"id\":\"1fde3b6a-4f8c-4fb1-8592-7c1127caf135\",\"type\":\"LassoSelectTool\"},{\"attributes\":{},\"id\":\"06792786-ab05-4c5e-b224-bb9d652e3f03\",\"type\":\"LinearScale\"},{\"attributes\":{\"callback\":null,\"overlay\":{\"id\":\"07653174-3d27-4cc5-a495-672ad6721b6e\",\"type\":\"BoxAnnotation\"}},\"id\":\"4df93f3b-5965-4df4-bb03-777f0190091b\",\"type\":\"BoxSelectTool\"},{\"attributes\":{},\"id\":\"07c613ba-492a-4f54-8412-a80b047da384\",\"type\":\"WheelZoomTool\"},{\"attributes\":{\"callback\":null,\"overlay\":{\"id\":\"f340a58b-d49e-4592-b463-e40a6505ea7b\",\"type\":\"PolyAnnotation\"}},\"id\":\"e0e1c06e-c125-45b8-bf9c-9ad4f35247f2\",\"type\":\"LassoSelectTool\"},{\"attributes\":{},\"id\":\"1e047b99-b684-4e1a-aa06-5738ceb79607\",\"type\":\"BasicTickFormatter\"},{\"attributes\":{},\"id\":\"536d57be-f9c9-44dc-825a-4d80b9b42a0e\",\"type\":\"BasicTickFormatter\"},{\"attributes\":{},\"id\":\"eb2f0e7a-d367-4d03-a9ee-e0b01200a9eb\",\"type\":\"BasicTickFormatter\"},{\"attributes\":{\"bottom_units\":\"screen\",\"fill_alpha\":{\"value\":0.5},\"fill_color\":{\"value\":\"lightgrey\"},\"left_units\":\"screen\",\"level\":\"overlay\",\"line_alpha\":{\"value\":1.0},\"line_color\":{\"value\":\"black\"},\"line_dash\":[4,4],\"line_width\":{\"value\":2},\"plot\":null,\"render_mode\":\"css\",\"right_units\":\"screen\",\"top_units\":\"screen\"},\"id\":\"cfeb145f-52db-4ae5-9a2a-0ec0d4561415\",\"type\":\"BoxAnnotation\"},{\"attributes\":{\"source\":{\"id\":\"d974326b-33fb-4552-84c2-6177e9453f85\",\"type\":\"ColumnDataSource\"}},\"id\":\"69d7b488-7878-44bf-b686-f828b2f69c15\",\"type\":\"CDSView\"},{\"attributes\":{},\"id\":\"46e47af1-f0b8-4b5c-8c9d-ef05aba18974\",\"type\":\"PanTool\"},{\"attributes\":{\"callback\":null,\"overlay\":{\"id\":\"ebd44b2c-d049-4f87-bfb9-61063bf56907\",\"type\":\"BoxAnnotation\"}},\"id\":\"70407e69-128d-4da0-a2a6-40289af24f5e\",\"type\":\"BoxSelectTool\"},{\"attributes\":{\"bottom_units\":\"screen\",\"fill_alpha\":{\"value\":0.5},\"fill_color\":{\"value\":\"lightgrey\"},\"left_units\":\"screen\",\"level\":\"overlay\",\"line_alpha\":{\"value\":1.0},\"line_color\":{\"value\":\"black\"},\"line_dash\":[4,4],\"line_width\":{\"value\":2},\"plot\":null,\"render_mode\":\"css\",\"right_units\":\"screen\",\"top_units\":\"screen\"},\"id\":\"ebd44b2c-d049-4f87-bfb9-61063bf56907\",\"type\":\"BoxAnnotation\"},{\"attributes\":{\"callback\":null},\"id\":\"fd0a6cfc-5f64-4903-90a9-0ac2a13fbbb1\",\"type\":\"DataRange1d\"},{\"attributes\":{},\"id\":\"7055d611-7ffa-41d5-8073-8ffd5caee9fe\",\"type\":\"PanTool\"},{\"attributes\":{\"formatter\":{\"id\":\"1e047b99-b684-4e1a-aa06-5738ceb79607\",\"type\":\"BasicTickFormatter\"},\"plot\":{\"id\":\"5b45f574-705b-4dbe-aa1c-b754111dbc88\",\"subtype\":\"Figure\",\"type\":\"Plot\"},\"ticker\":{\"id\":\"d2bd386f-c6d9-4f30-afa1-0022dae3bdb6\",\"type\":\"BasicTicker\"}},\"id\":\"12582152-7b9c-4b13-9438-11955f25af4f\",\"type\":\"LinearAxis\"},{\"attributes\":{\"fill_alpha\":{\"value\":0.5},\"fill_color\":{\"value\":\"lightgrey\"},\"level\":\"overlay\",\"line_alpha\":{\"value\":1.0},\"line_color\":{\"value\":\"black\"},\"line_dash\":[4,4],\"line_width\":{\"value\":2},\"plot\":null,\"xs_units\":\"screen\",\"ys_units\":\"screen\"},\"id\":\"f340a58b-d49e-4592-b463-e40a6505ea7b\",\"type\":\"PolyAnnotation\"},{\"attributes\":{},\"id\":\"7ea02afc-1091-412a-a282-de31097d5d8f\",\"type\":\"UnionRenderers\"},{\"attributes\":{\"below\":[{\"id\":\"2937c708-30bd-4325-9dd4-cd2a00ec7a1c\",\"type\":\"LinearAxis\"}],\"left\":[{\"id\":\"40befc8c-8064-4ae1-bd88-511ff3cb6dff\",\"type\":\"LinearAxis\"}],\"plot_height\":300,\"plot_width\":300,\"renderers\":[{\"id\":\"2937c708-30bd-4325-9dd4-cd2a00ec7a1c\",\"type\":\"LinearAxis\"},{\"id\":\"e2b43aec-7295-4ce1-99f0-c57bfc19d3ea\",\"type\":\"Grid\"},{\"id\":\"40befc8c-8064-4ae1-bd88-511ff3cb6dff\",\"type\":\"LinearAxis\"},{\"id\":\"a3ef9039-d5be-4058-95bc-a2f2d346218e\",\"type\":\"Grid\"},{\"id\":\"fff0201a-09c1-4ebb-a738-716a20c9ed25\",\"type\":\"BoxAnnotation\"},{\"id\":\"ebd44b2c-d049-4f87-bfb9-61063bf56907\",\"type\":\"BoxAnnotation\"},{\"id\":\"f340a58b-d49e-4592-b463-e40a6505ea7b\",\"type\":\"PolyAnnotation\"},{\"id\":\"2e823c1e-4f2c-437c-b8e9-795610ec7354\",\"type\":\"GlyphRenderer\"}],\"title\":{\"id\":\"921437aa-2c25-42cd-bfda-f52597c02cc5\",\"type\":\"Title\"},\"toolbar\":{\"id\":\"188f6ae0-3bda-46b9-bcab-f1b9a57fa812\",\"type\":\"Toolbar\"},\"toolbar_location\":null,\"x_range\":{\"id\":\"725d9af6-a324-4627-8ec4-df02b38e5ba2\",\"type\":\"DataRange1d\"},\"x_scale\":{\"id\":\"1ba0d6ea-29fd-423d-95f7-a4c8431e47f5\",\"type\":\"LinearScale\"},\"y_range\":{\"id\":\"25c6b4ba-eb58-4714-9cc0-95175ed36ebf\",\"type\":\"DataRange1d\"},\"y_scale\":{\"id\":\"1782d61c-8b69-4d37-bbfa-1d61c97b1fe7\",\"type\":\"LinearScale\"}},\"id\":\"3492d33f-6a3b-4723-ac3c-e81be9d5dbcb\",\"subtype\":\"Figure\",\"type\":\"Plot\"},{\"attributes\":{\"fill_color\":{\"value\":\"blue\"},\"line_color\":{\"value\":\"blue\"},\"x\":{\"field\":\"yr\"},\"y\":{\"field\":\"mpg\"}},\"id\":\"00e94cb8-99c5-4345-95cc-31dcda019afc\",\"type\":\"Circle\"},{\"attributes\":{\"active_drag\":\"auto\",\"active_inspect\":\"auto\",\"active_multi\":null,\"active_scroll\":\"auto\",\"active_tap\":\"auto\",\"tools\":[{\"id\":\"815ee431-91c4-4a81-a98a-2743d2e0364d\",\"type\":\"PanTool\"},{\"id\":\"3a39e97d-41a1-4f95-9c74-6fa6613080bb\",\"type\":\"WheelZoomTool\"},{\"id\":\"50f4878c-0841-473a-b7a3-e5a8af0319e2\",\"type\":\"BoxZoomTool\"},{\"id\":\"23e320ad-9dd7-450c-9181-780842fbfffc\",\"type\":\"BoxSelectTool\"},{\"id\":\"eacfcb3f-8321-4ea9-93f6-707acc6dc073\",\"type\":\"LassoSelectTool\"}]},\"id\":\"97dc1320-8901-4f56-9f58-77937028c23b\",\"type\":\"Toolbar\"},{\"attributes\":{},\"id\":\"c257bb12-da72-426d-953f-e5f517815c19\",\"type\":\"BasicTicker\"},{\"attributes\":{\"callback\":null},\"id\":\"b51fc315-99c4-43d5-9125-8d97a12550b5\",\"type\":\"DataRange1d\"},{\"attributes\":{\"callback\":null,\"overlay\":{\"id\":\"662ac094-01cf-48d8-bf22-7bfec7210826\",\"type\":\"PolyAnnotation\"}},\"id\":\"eacfcb3f-8321-4ea9-93f6-707acc6dc073\",\"type\":\"LassoSelectTool\"},{\"attributes\":{},\"id\":\"3a39e97d-41a1-4f95-9c74-6fa6613080bb\",\"type\":\"WheelZoomTool\"},{\"attributes\":{\"callback\":null},\"id\":\"a3951156-7088-43d3-b550-5e113cc73ca1\",\"type\":\"DataRange1d\"},{\"attributes\":{\"fill_alpha\":{\"value\":0.1},\"fill_color\":{\"value\":\"#1f77b4\"},\"line_alpha\":{\"value\":0.1},\"line_color\":{\"value\":\"#1f77b4\"},\"x\":{\"field\":\"hp\"},\"y\":{\"field\":\"displ\"}},\"id\":\"c5698705-9054-4b7f-896e-e5f1b2493e75\",\"type\":\"Circle\"},{\"attributes\":{\"overlay\":{\"id\":\"e98124fe-e8b3-4e19-9439-ed4a1aee5e3b\",\"type\":\"BoxAnnotation\"}},\"id\":\"5df2e44a-78e3-4a99-95dc-4d00680979bd\",\"type\":\"BoxZoomTool\"},{\"attributes\":{\"plot\":{\"id\":\"108a9df1-c7dc-4dd8-93f4-6ef11a764c62\",\"subtype\":\"Figure\",\"type\":\"Plot\"},\"ticker\":{\"id\":\"a6316d45-4b2d-47eb-be52-6cd3ab84e396\",\"type\":\"BasicTicker\"}},\"id\":\"7c437abe-0069-4d6e-8454-2bf5a61780b2\",\"type\":\"Grid\"},{\"attributes\":{\"source\":{\"id\":\"d974326b-33fb-4552-84c2-6177e9453f85\",\"type\":\"ColumnDataSource\"}},\"id\":\"c2a956bb-7c75-44c6-84d1-b228560d0d83\",\"type\":\"CDSView\"},{\"attributes\":{\"source\":{\"id\":\"d974326b-33fb-4552-84c2-6177e9453f85\",\"type\":\"ColumnDataSource\"}},\"id\":\"ed0e8b58-5d38-4492-9424-fe49a06d1978\",\"type\":\"CDSView\"}],\"root_ids\":[\"f45a8a50-7184-4c9f-a979-e5d77e1eecef\"]},\"title\":\"Bokeh Application\",\"version\":\"0.13.0\"}};\n",
       "  var render_items = [{\"docid\":\"ebe9aadd-28b2-446b-8080-884f2d424dfc\",\"roots\":{\"f45a8a50-7184-4c9f-a979-e5d77e1eecef\":\"e42df904-4250-4f64-a038-aa32c6fccee9\"}}];\n",
       "  root.Bokeh.embed.embed_items_notebook(docs_json, render_items);\n",
       "\n",
       "  }\n",
       "  if (root.Bokeh !== undefined) {\n",
       "    embed_document(root);\n",
       "  } else {\n",
       "    var attempts = 0;\n",
       "    var timer = setInterval(function(root) {\n",
       "      if (root.Bokeh !== undefined) {\n",
       "        embed_document(root);\n",
       "        clearInterval(timer);\n",
       "      }\n",
       "      attempts++;\n",
       "      if (attempts > 100) {\n",
       "        console.log(\"Bokeh: ERROR: Unable to run BokehJS code because BokehJS library is missing\")\n",
       "        clearInterval(timer);\n",
       "      }\n",
       "    }, 10, root)\n",
       "  }\n",
       "})(window);"
      ],
      "application/vnd.bokehjs_exec.v0+json": ""
     },
     "metadata": {
      "application/vnd.bokehjs_exec.v0+json": {
       "id": "f45a8a50-7184-4c9f-a979-e5d77e1eecef"
      }
     },
     "output_type": "display_data"
    }
   ],
   "source": [
    "from bokeh.models import ColumnDataSource\n",
    "from bokeh.layouts import gridplot\n",
    "\n",
    "source = ColumnDataSource(autompg)\n",
    "\n",
    "options = dict(plot_width=300, plot_height=300,\n",
    "               tools=\"pan,wheel_zoom,box_zoom,box_select,lasso_select\")\n",
    "\n",
    "p1 = figure(title=\"MPG by Year\", **options)\n",
    "p1.circle(\"yr\", \"mpg\", color=\"blue\", source=source)\n",
    "\n",
    "p2 = figure(title=\"HP vs. Displacement\", **options)\n",
    "p2.circle(\"hp\", \"displ\", color=\"green\", source=source)\n",
    "\n",
    "p3 = figure(title=\"MPG vs. Displacement\", **options)\n",
    "p3.circle(\"mpg\", \"displ\", size=\"cyl\", line_color=\"red\", fill_color=None, source=source)\n",
    "\n",
    "p = gridplot([[ p1, p2, p3]], toolbar_location=\"right\")\n",
    "\n",
    "show(p)"
   ]
  },
  {
   "cell_type": "markdown",
   "metadata": {},
   "source": [
    "You can read more about the `ColumnDataSource` and other Bokeh data structures in [Providing Data for Plots and Tables](https://bokeh.pydata.org/en/latest/docs/user_guide/data.html)"
   ]
  },
  {
   "cell_type": "markdown",
   "metadata": {},
   "source": [
    "## Standalone HTML\n",
    "\n",
    "In addition to working well with the Notebook, Bokeh can also save plots out into their own HTML files.  Here is the bar plot example from above, but saving into its own standalone file.\n",
    "\n",
    "Now when we call `show()`, a new browser tab is also opened with the plot. If we just wanted to save the file, we would use `save()` instead."
   ]
  },
  {
   "cell_type": "code",
   "execution_count": 8,
   "metadata": {},
   "outputs": [
    {
     "data": {
      "text/html": [
       "\n",
       "\n",
       "\n",
       "\n",
       "\n",
       "\n",
       "  <div class=\"bk-root\" id=\"a3fbb3bd-5e38-4110-bb97-3dccf780acf7\"></div>\n"
      ]
     },
     "metadata": {},
     "output_type": "display_data"
    },
    {
     "data": {
      "application/javascript": [
       "(function(root) {\n",
       "  function embed_document(root) {\n",
       "    \n",
       "  var docs_json = {\"5427e26a-e4a6-41ff-906d-a3dc6a245c5a\":{\"roots\":{\"references\":[{\"attributes\":{},\"id\":\"50720095-76e4-4fcd-a2db-bbe8e833042a\",\"type\":\"LinearScale\"},{\"attributes\":{},\"id\":\"bcbe9d6c-f342-4892-be26-c0bd9d8b1cb6\",\"type\":\"BasicTickFormatter\"},{\"attributes\":{\"fill_alpha\":{\"value\":0.1},\"fill_color\":{\"value\":\"#1f77b4\"},\"line_alpha\":{\"value\":0.1},\"line_color\":{\"value\":\"#1f77b4\"},\"size\":{\"units\":\"screen\",\"value\":10},\"x\":{\"field\":\"x\"},\"y\":{\"field\":\"y\"}},\"id\":\"2cc15dbc-ed1f-4da4-b745-af3261710014\",\"type\":\"Circle\"},{\"attributes\":{},\"id\":\"35ab4b7e-a9e4-4d32-a40d-72aef8994e16\",\"type\":\"Selection\"},{\"attributes\":{\"data_source\":{\"id\":\"9fd95dff-4697-4785-a322-deb3e705dd9e\",\"type\":\"ColumnDataSource\"},\"glyph\":{\"id\":\"bdd7fa94-d58a-4294-9359-9de50f5f46d6\",\"type\":\"Circle\"},\"hover_glyph\":null,\"muted_glyph\":null,\"nonselection_glyph\":{\"id\":\"2cc15dbc-ed1f-4da4-b745-af3261710014\",\"type\":\"Circle\"},\"selection_glyph\":null,\"view\":{\"id\":\"e9ae4b2a-ea53-4d2d-99d8-5aba0155b946\",\"type\":\"CDSView\"}},\"id\":\"c45d567b-5ea5-45b6-ba04-3ff122c4287f\",\"type\":\"GlyphRenderer\"},{\"attributes\":{\"fill_alpha\":{\"value\":0.3},\"fill_color\":{\"value\":\"red\"},\"line_alpha\":{\"value\":0.3},\"line_color\":{\"value\":\"red\"},\"size\":{\"units\":\"screen\",\"value\":10},\"x\":{\"field\":\"x\"},\"y\":{\"field\":\"y\"}},\"id\":\"bdd7fa94-d58a-4294-9359-9de50f5f46d6\",\"type\":\"Circle\"},{\"attributes\":{\"formatter\":{\"id\":\"01df2bd5-9c83-43bb-a1ea-2bf506779be0\",\"type\":\"BasicTickFormatter\"},\"plot\":{\"id\":\"71a19538-4460-4b13-b454-105dc614f5b1\",\"subtype\":\"Figure\",\"type\":\"Plot\"},\"ticker\":{\"id\":\"667d7931-314d-4386-8a51-3645b0dc0657\",\"type\":\"BasicTicker\"}},\"id\":\"e9282805-efa2-49fb-9203-f024d2fe5b91\",\"type\":\"LinearAxis\"},{\"attributes\":{},\"id\":\"e33217de-57f8-4ba0-acf3-421c174eb996\",\"type\":\"BasicTicker\"},{\"attributes\":{\"fill_alpha\":{\"value\":0.1},\"fill_color\":{\"value\":\"#1f77b4\"},\"line_alpha\":{\"value\":0.1},\"line_color\":{\"value\":\"#1f77b4\"},\"size\":{\"units\":\"screen\",\"value\":10},\"x\":{\"field\":\"x\"},\"y\":{\"field\":\"y\"}},\"id\":\"fcd8509d-5b36-4c79-a35c-bee645cf7bd4\",\"type\":\"Triangle\"},{\"attributes\":{\"plot\":{\"id\":\"71a19538-4460-4b13-b454-105dc614f5b1\",\"subtype\":\"Figure\",\"type\":\"Plot\"},\"ticker\":{\"id\":\"e33217de-57f8-4ba0-acf3-421c174eb996\",\"type\":\"BasicTicker\"}},\"id\":\"2939b445-ba12-4970-9ebc-6a6570b4ed3b\",\"type\":\"Grid\"},{\"attributes\":{},\"id\":\"126600f1-31f2-4be0-a049-1093a43597b1\",\"type\":\"UnionRenderers\"},{\"attributes\":{\"formatter\":{\"id\":\"bcbe9d6c-f342-4892-be26-c0bd9d8b1cb6\",\"type\":\"BasicTickFormatter\"},\"plot\":{\"id\":\"71a19538-4460-4b13-b454-105dc614f5b1\",\"subtype\":\"Figure\",\"type\":\"Plot\"},\"ticker\":{\"id\":\"e33217de-57f8-4ba0-acf3-421c174eb996\",\"type\":\"BasicTicker\"}},\"id\":\"8ceeafc1-aa96-4a43-8c03-3a1d051abab0\",\"type\":\"LinearAxis\"},{\"attributes\":{\"items\":[{\"id\":\"a538257c-560a-43c0-9411-f31e156f3a7d\",\"type\":\"LegendItem\"},{\"id\":\"e3da4bc3-3c63-48c3-873f-3261fbc8d4da\",\"type\":\"LegendItem\"},{\"id\":\"e342940a-2687-4f8f-80d5-b7aa45b4ee25\",\"type\":\"LegendItem\"}],\"location\":\"top_left\",\"plot\":{\"id\":\"71a19538-4460-4b13-b454-105dc614f5b1\",\"subtype\":\"Figure\",\"type\":\"Plot\"}},\"id\":\"ddd264a6-3661-4200-be79-29f5bba52c14\",\"type\":\"Legend\"},{\"attributes\":{\"callback\":null,\"data\":{\"x\":[70,70,70,70,70,70,70,70,70,70,70,70,70,70,70,70,70,70,70,70,70,70,71,71,71,71,71,71,71,71,71,71,71,71,71,71,71,71,71,71,71,72,72,72,72,72,72,72,72,72,72,72,72,72,72,72,72,72,72,73,73,73,73,73,73,73,73,73,73,73,73,73,73,73,73,73,73,73,73,73,73,73,73,73,73,73,73,73,74,74,74,74,74,74,74,74,74,74,74,74,74,74,75,75,75,75,75,75,75,75,75,75,75,75,75,75,75,75,75,75,75,75,76,76,76,76,76,76,76,76,76,76,76,76,76,76,76,76,76,76,76,76,76,76,77,77,77,77,77,77,77,77,77,77,77,77,77,77,77,77,77,77,78,78,78,78,78,78,78,78,78,78,78,78,78,78,78,78,78,78,78,78,78,78,79,79,79,79,79,79,79,79,79,79,79,79,79,79,79,79,79,79,79,79,79,79,79,80,80,80,80,80,80,81,81,81,81,81,81,81,81,81,81,81,81,81,82,82,82,82,82,82,82,82,82,82,82,82,82,82,82,82,82,82,82],\"y\":{\"__ndarray__\":\"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\",\"dtype\":\"float64\",\"shape\":[245]}},\"selected\":{\"id\":\"f0529a2a-708e-4a56-9297-3694de8a3a1d\",\"type\":\"Selection\"},\"selection_policy\":{\"id\":\"e053a031-0a38-4a61-9030-f96b24ca4963\",\"type\":\"UnionRenderers\"}},\"id\":\"e4eeaf41-a25c-4b06-905a-d653b7dfad52\",\"type\":\"ColumnDataSource\"},{\"attributes\":{},\"id\":\"cbae3a65-84c3-4950-9945-9ec0b6603ef5\",\"type\":\"LinearScale\"},{\"attributes\":{\"fill_alpha\":{\"value\":0.3},\"fill_color\":{\"value\":\"blue\"},\"line_alpha\":{\"value\":0.3},\"line_color\":{\"value\":\"blue\"},\"size\":{\"units\":\"screen\",\"value\":10},\"x\":{\"field\":\"x\"},\"y\":{\"field\":\"y\"}},\"id\":\"4f8dfcae-db23-42b6-8fae-32707653e16b\",\"type\":\"Triangle\"},{\"attributes\":{\"active_drag\":\"auto\",\"active_inspect\":\"auto\",\"active_multi\":null,\"active_scroll\":\"auto\",\"active_tap\":\"auto\",\"tools\":[{\"id\":\"0f46d072-693f-4133-8bf2-e1a46cb19cc5\",\"type\":\"PanTool\"},{\"id\":\"1da0aa3e-a998-4dc5-8285-2a56de67bf7e\",\"type\":\"WheelZoomTool\"},{\"id\":\"43000ba9-d331-48a7-89a9-562b39bb01a4\",\"type\":\"BoxZoomTool\"},{\"id\":\"e9280116-49c5-4a17-ae34-c4390b37fa93\",\"type\":\"SaveTool\"},{\"id\":\"77fda508-6267-4f67-8af7-c1305356a905\",\"type\":\"ResetTool\"},{\"id\":\"a2e39225-ab78-4d15-a416-e7fe9272c804\",\"type\":\"HelpTool\"}]},\"id\":\"153e7907-62d1-4dfa-aeab-108468ee1867\",\"type\":\"Toolbar\"},{\"attributes\":{\"data_source\":{\"id\":\"e4eeaf41-a25c-4b06-905a-d653b7dfad52\",\"type\":\"ColumnDataSource\"},\"glyph\":{\"id\":\"4f8dfcae-db23-42b6-8fae-32707653e16b\",\"type\":\"Triangle\"},\"hover_glyph\":null,\"muted_glyph\":null,\"nonselection_glyph\":{\"id\":\"fcd8509d-5b36-4c79-a35c-bee645cf7bd4\",\"type\":\"Triangle\"},\"selection_glyph\":null,\"view\":{\"id\":\"18f09358-0616-44de-9547-7f13de100705\",\"type\":\"CDSView\"}},\"id\":\"c31d1647-0065-403a-86d2-c6fd84319546\",\"type\":\"GlyphRenderer\"},{\"attributes\":{\"data_source\":{\"id\":\"62e11c3c-bd8d-49d2-b2c5-b22cd11f48b5\",\"type\":\"ColumnDataSource\"},\"glyph\":{\"id\":\"dc81abb5-6e19-4e9d-b618-c99b1d2e75b5\",\"type\":\"VBar\"},\"hover_glyph\":null,\"muted_glyph\":null,\"nonselection_glyph\":{\"id\":\"5926eab8-ab12-438e-a458-cc75452e3b2c\",\"type\":\"VBar\"},\"selection_glyph\":null,\"view\":{\"id\":\"735ada3a-25fe-4925-8767-df1231597423\",\"type\":\"CDSView\"}},\"id\":\"32ec3271-9e08-4469-a4da-de79d584d673\",\"type\":\"GlyphRenderer\"},{\"attributes\":{\"callback\":null,\"data\":{\"bottom\":{\"__ndarray__\":\"gvFgx2qzKECcKci59t4sQJZdRzm5jipAzvVtn6zMKECki7kXNjswQIpnc6D2pi5ApAV4qVNeL0DtFQi6+rIwQBxLQL6+KTFAWBwW2YNMMkBnDzEy+Oo6QAq856zmjDhAfzfsSXnEOkA=\",\"dtype\":\"float64\",\"shape\":[13]},\"top\":{\"__ndarray__\":\"55jlF2UHN0DAzlQxaMk7QBEIyj5aJjhATTh849zMNUD6TNCFok49QMPUTjgNNTlA1KLp0Ht2O0AT6vdFBQ0+QNr+XjaL9T5AVt48aCfjP0AojYptQ1hEQPSsO6IX6UFAQOQJW8OdQkA=\",\"dtype\":\"float64\",\"shape\":[13]},\"x\":[70,71,72,73,74,75,76,77,78,79,80,81,82]},\"selected\":{\"id\":\"35ab4b7e-a9e4-4d32-a40d-72aef8994e16\",\"type\":\"Selection\"},\"selection_policy\":{\"id\":\"126600f1-31f2-4be0-a049-1093a43597b1\",\"type\":\"UnionRenderers\"}},\"id\":\"62e11c3c-bd8d-49d2-b2c5-b22cd11f48b5\",\"type\":\"ColumnDataSource\"},{\"attributes\":{\"source\":{\"id\":\"9fd95dff-4697-4785-a322-deb3e705dd9e\",\"type\":\"ColumnDataSource\"}},\"id\":\"e9ae4b2a-ea53-4d2d-99d8-5aba0155b946\",\"type\":\"CDSView\"},{\"attributes\":{},\"id\":\"77fda508-6267-4f67-8af7-c1305356a905\",\"type\":\"ResetTool\"},{\"attributes\":{\"callback\":null},\"id\":\"078018d3-ba04-4202-a4fc-c8890222abf4\",\"type\":\"DataRange1d\"},{\"attributes\":{\"label\":{\"value\":\"MPG 1 stddev\"},\"renderers\":[{\"id\":\"32ec3271-9e08-4469-a4da-de79d584d673\",\"type\":\"GlyphRenderer\"}]},\"id\":\"a538257c-560a-43c0-9411-f31e156f3a7d\",\"type\":\"LegendItem\"},{\"attributes\":{\"plot\":null,\"text\":\"MPG by Year (Japan and US)\"},\"id\":\"c9d1dfb7-2138-4ddf-8d9b-76ab35a8e67a\",\"type\":\"Title\"},{\"attributes\":{\"label\":{\"value\":\"Japanese\"},\"renderers\":[{\"id\":\"c45d567b-5ea5-45b6-ba04-3ff122c4287f\",\"type\":\"GlyphRenderer\"}]},\"id\":\"e3da4bc3-3c63-48c3-873f-3261fbc8d4da\",\"type\":\"LegendItem\"},{\"attributes\":{},\"id\":\"a2e39225-ab78-4d15-a416-e7fe9272c804\",\"type\":\"HelpTool\"},{\"attributes\":{\"bottom\":{\"field\":\"bottom\"},\"fill_alpha\":{\"value\":0.2},\"fill_color\":{\"value\":\"#1f77b4\"},\"line_color\":{\"value\":null},\"top\":{\"field\":\"top\"},\"width\":{\"value\":0.8},\"x\":{\"field\":\"x\"}},\"id\":\"dc81abb5-6e19-4e9d-b618-c99b1d2e75b5\",\"type\":\"VBar\"},{\"attributes\":{},\"id\":\"9d73b9a0-4404-4282-b4a0-27a97c54462a\",\"type\":\"Selection\"},{\"attributes\":{},\"id\":\"e9280116-49c5-4a17-ae34-c4390b37fa93\",\"type\":\"SaveTool\"},{\"attributes\":{\"callback\":null},\"id\":\"ae9e23f3-3b99-4e5d-8c8c-181dd8d6bd46\",\"type\":\"DataRange1d\"},{\"attributes\":{\"overlay\":{\"id\":\"55ace5d7-8b62-4c93-9548-1a73779dc98e\",\"type\":\"BoxAnnotation\"}},\"id\":\"43000ba9-d331-48a7-89a9-562b39bb01a4\",\"type\":\"BoxZoomTool\"},{\"attributes\":{},\"id\":\"f0529a2a-708e-4a56-9297-3694de8a3a1d\",\"type\":\"Selection\"},{\"attributes\":{\"below\":[{\"id\":\"8ceeafc1-aa96-4a43-8c03-3a1d051abab0\",\"type\":\"LinearAxis\"}],\"left\":[{\"id\":\"e9282805-efa2-49fb-9203-f024d2fe5b91\",\"type\":\"LinearAxis\"}],\"renderers\":[{\"id\":\"8ceeafc1-aa96-4a43-8c03-3a1d051abab0\",\"type\":\"LinearAxis\"},{\"id\":\"2939b445-ba12-4970-9ebc-6a6570b4ed3b\",\"type\":\"Grid\"},{\"id\":\"e9282805-efa2-49fb-9203-f024d2fe5b91\",\"type\":\"LinearAxis\"},{\"id\":\"15532099-0176-4614-a98e-469a5b3dd6ef\",\"type\":\"Grid\"},{\"id\":\"55ace5d7-8b62-4c93-9548-1a73779dc98e\",\"type\":\"BoxAnnotation\"},{\"id\":\"ddd264a6-3661-4200-be79-29f5bba52c14\",\"type\":\"Legend\"},{\"id\":\"32ec3271-9e08-4469-a4da-de79d584d673\",\"type\":\"GlyphRenderer\"},{\"id\":\"c45d567b-5ea5-45b6-ba04-3ff122c4287f\",\"type\":\"GlyphRenderer\"},{\"id\":\"c31d1647-0065-403a-86d2-c6fd84319546\",\"type\":\"GlyphRenderer\"}],\"title\":{\"id\":\"c9d1dfb7-2138-4ddf-8d9b-76ab35a8e67a\",\"type\":\"Title\"},\"toolbar\":{\"id\":\"153e7907-62d1-4dfa-aeab-108468ee1867\",\"type\":\"Toolbar\"},\"x_range\":{\"id\":\"ae9e23f3-3b99-4e5d-8c8c-181dd8d6bd46\",\"type\":\"DataRange1d\"},\"x_scale\":{\"id\":\"50720095-76e4-4fcd-a2db-bbe8e833042a\",\"type\":\"LinearScale\"},\"y_range\":{\"id\":\"078018d3-ba04-4202-a4fc-c8890222abf4\",\"type\":\"DataRange1d\"},\"y_scale\":{\"id\":\"cbae3a65-84c3-4950-9945-9ec0b6603ef5\",\"type\":\"LinearScale\"}},\"id\":\"71a19538-4460-4b13-b454-105dc614f5b1\",\"subtype\":\"Figure\",\"type\":\"Plot\"},{\"attributes\":{},\"id\":\"01df2bd5-9c83-43bb-a1ea-2bf506779be0\",\"type\":\"BasicTickFormatter\"},{\"attributes\":{\"callback\":null,\"data\":{\"x\":[70,70,71,71,71,71,72,72,72,72,72,73,73,73,73,74,74,74,74,74,74,75,75,75,75,76,76,76,76,77,77,77,77,77,77,78,78,78,78,78,78,78,78,79,79,80,80,80,80,80,80,80,80,80,80,80,80,80,81,81,81,81,81,81,81,81,81,81,81,81,82,82,82,82,82,82,82,82,82],\"y\":{\"__ndarray__\":\"AAAAAAAAOEAAAAAAAAA7QAAAAAAAADtAAAAAAAAAOUAAAAAAAAA/QAAAAAAAgEFAAAAAAAAAOEAAAAAAAAAzQAAAAAAAADxAAAAAAAAAN0AAAAAAAAA7QAAAAAAAADRAAAAAAAAANkAAAAAAAAAyQAAAAAAAADRAAAAAAAAAP0AAAAAAAABAQAAAAAAAAD9AAAAAAAAAQEAAAAAAAAA4QAAAAAAAADpAAAAAAAAAPUAAAAAAAAA4QAAAAAAAADhAAAAAAACAQEAAAAAAAIBAQAAAAAAAAEBAAAAAAAAAPEAAAAAAAAAzQAAAAAAAgD9AAAAAAADAQEAAAAAAAAA6QAAAAAAAAD5AAAAAAAAANkAAAAAAAIA1QGZmZmZmZkBAMzMzMzOzQ0DNzMzMzAxCQAAAAAAAgDtAMzMzMzMzO0CamZmZmRk1QGZmZmZm5jdAAAAAAACAPUDNzMzMzAxBQM3MzMzMzD9AzczMzMwMQ0CamZmZmZlCQM3MzMzMzD1AzczMzMxMP0AAAAAAAIBCQJqZmZmZGUBAzczMzMxMR0BmZmZmZmZEQM3MzMzMTEZAZmZmZmbmQECamZmZmVlAQDMzMzMzszdAMzMzMzMzQEDNzMzMzIxDQM3MzMzMjEFAZmZmZmYmQEAAAAAAAIBCQJqZmZmZ2UJAzczMzMwMQUCamZmZmdlAQDMzMzMzM0BAMzMzMzNzQECamZmZmZk/QGZmZmZmZjlAMzMzMzMzOEAAAAAAAIBCQAAAAAAAAD9AAAAAAAAAQkAAAAAAAABCQAAAAAAAAEFAAAAAAAAAQ0AAAAAAAABAQAAAAAAAAENAAAAAAAAAQEA=\",\"dtype\":\"float64\",\"shape\":[79]}},\"selected\":{\"id\":\"9d73b9a0-4404-4282-b4a0-27a97c54462a\",\"type\":\"Selection\"},\"selection_policy\":{\"id\":\"4a166713-e296-41f6-a80b-5d6a1074d38b\",\"type\":\"UnionRenderers\"}},\"id\":\"9fd95dff-4697-4785-a322-deb3e705dd9e\",\"type\":\"ColumnDataSource\"},{\"attributes\":{\"bottom_units\":\"screen\",\"fill_alpha\":{\"value\":0.5},\"fill_color\":{\"value\":\"lightgrey\"},\"left_units\":\"screen\",\"level\":\"overlay\",\"line_alpha\":{\"value\":1.0},\"line_color\":{\"value\":\"black\"},\"line_dash\":[4,4],\"line_width\":{\"value\":2},\"plot\":null,\"render_mode\":\"css\",\"right_units\":\"screen\",\"top_units\":\"screen\"},\"id\":\"55ace5d7-8b62-4c93-9548-1a73779dc98e\",\"type\":\"BoxAnnotation\"},{\"attributes\":{},\"id\":\"e053a031-0a38-4a61-9030-f96b24ca4963\",\"type\":\"UnionRenderers\"},{\"attributes\":{},\"id\":\"4a166713-e296-41f6-a80b-5d6a1074d38b\",\"type\":\"UnionRenderers\"},{\"attributes\":{\"source\":{\"id\":\"62e11c3c-bd8d-49d2-b2c5-b22cd11f48b5\",\"type\":\"ColumnDataSource\"}},\"id\":\"735ada3a-25fe-4925-8767-df1231597423\",\"type\":\"CDSView\"},{\"attributes\":{\"source\":{\"id\":\"e4eeaf41-a25c-4b06-905a-d653b7dfad52\",\"type\":\"ColumnDataSource\"}},\"id\":\"18f09358-0616-44de-9547-7f13de100705\",\"type\":\"CDSView\"},{\"attributes\":{},\"id\":\"1da0aa3e-a998-4dc5-8285-2a56de67bf7e\",\"type\":\"WheelZoomTool\"},{\"attributes\":{\"dimension\":1,\"plot\":{\"id\":\"71a19538-4460-4b13-b454-105dc614f5b1\",\"subtype\":\"Figure\",\"type\":\"Plot\"},\"ticker\":{\"id\":\"667d7931-314d-4386-8a51-3645b0dc0657\",\"type\":\"BasicTicker\"}},\"id\":\"15532099-0176-4614-a98e-469a5b3dd6ef\",\"type\":\"Grid\"},{\"attributes\":{},\"id\":\"667d7931-314d-4386-8a51-3645b0dc0657\",\"type\":\"BasicTicker\"},{\"attributes\":{\"label\":{\"value\":\"American\"},\"renderers\":[{\"id\":\"c31d1647-0065-403a-86d2-c6fd84319546\",\"type\":\"GlyphRenderer\"}]},\"id\":\"e342940a-2687-4f8f-80d5-b7aa45b4ee25\",\"type\":\"LegendItem\"},{\"attributes\":{\"bottom\":{\"field\":\"bottom\"},\"fill_alpha\":{\"value\":0.1},\"fill_color\":{\"value\":\"#1f77b4\"},\"line_alpha\":{\"value\":0.1},\"line_color\":{\"value\":\"#1f77b4\"},\"top\":{\"field\":\"top\"},\"width\":{\"value\":0.8},\"x\":{\"field\":\"x\"}},\"id\":\"5926eab8-ab12-438e-a458-cc75452e3b2c\",\"type\":\"VBar\"},{\"attributes\":{},\"id\":\"0f46d072-693f-4133-8bf2-e1a46cb19cc5\",\"type\":\"PanTool\"}],\"root_ids\":[\"71a19538-4460-4b13-b454-105dc614f5b1\"]},\"title\":\"Bokeh Application\",\"version\":\"0.13.0\"}};\n",
       "  var render_items = [{\"docid\":\"5427e26a-e4a6-41ff-906d-a3dc6a245c5a\",\"roots\":{\"71a19538-4460-4b13-b454-105dc614f5b1\":\"a3fbb3bd-5e38-4110-bb97-3dccf780acf7\"}}];\n",
       "  root.Bokeh.embed.embed_items_notebook(docs_json, render_items);\n",
       "\n",
       "  }\n",
       "  if (root.Bokeh !== undefined) {\n",
       "    embed_document(root);\n",
       "  } else {\n",
       "    var attempts = 0;\n",
       "    var timer = setInterval(function(root) {\n",
       "      if (root.Bokeh !== undefined) {\n",
       "        embed_document(root);\n",
       "        clearInterval(timer);\n",
       "      }\n",
       "      attempts++;\n",
       "      if (attempts > 100) {\n",
       "        console.log(\"Bokeh: ERROR: Unable to run BokehJS code because BokehJS library is missing\")\n",
       "        clearInterval(timer);\n",
       "      }\n",
       "    }, 10, root)\n",
       "  }\n",
       "})(window);"
      ],
      "application/vnd.bokehjs_exec.v0+json": ""
     },
     "metadata": {
      "application/vnd.bokehjs_exec.v0+json": {
       "id": "71a19538-4460-4b13-b454-105dc614f5b1"
      }
     },
     "output_type": "display_data"
    }
   ],
   "source": [
    "from bokeh.plotting import output_file\n",
    "\n",
    "output_file(\"barplot.html\")\n",
    "\n",
    "p = figure(title=\"MPG by Year (Japan and US)\")\n",
    "\n",
    "p.vbar(x=years, bottom=avg-std, top=avg+std, width=0.8, \n",
    "       fill_alpha=0.2, line_color=None, legend=\"MPG 1 stddev\")\n",
    "\n",
    "p.circle(x=japanese[\"yr\"], y=japanese[\"mpg\"], size=10, alpha=0.3,\n",
    "         color=\"red\", legend=\"Japanese\")\n",
    "\n",
    "p.triangle(x=american[\"yr\"], y=american[\"mpg\"], size=10, alpha=0.3,\n",
    "           color=\"blue\", legend=\"American\")\n",
    "\n",
    "p.legend.location = \"top_left\"\n",
    "show(p)"
   ]
  },
  {
   "cell_type": "markdown",
   "metadata": {},
   "source": [
    "## Bokeh Applications\n",
    "\n",
    "Bokeh also has a server component that can be used to build interactive web applications that easily connect the powerful constellation of PyData tools to sophisticated Bokeh visualizations. The Bokeh server can be used to:\n",
    "\n",
    "* respond to UI and tool events generated in a browser with computations or queries using the full power of python\n",
    "* automatically push server-side updates to the UI (i.e. widgets or plots in a browser)\n",
    "* use periodic, timeout, and asynchronous callbacks to drive streaming updates\n",
    "\n",
    "The cell below shows a simple deployed Bokeh application from https://demo.bokehplots.com embedded in an IFrame. Scrub the sliders or change the title to see the plot update. "
   ]
  },
  {
   "cell_type": "code",
   "execution_count": 8,
   "metadata": {},
   "outputs": [
    {
     "data": {
      "text/html": [
       "\n",
       "        <iframe\n",
       "            width=\"900\"\n",
       "            height=\"410\"\n",
       "            src=\"https://demo.bokehplots.com/apps/sliders/\"\n",
       "            frameborder=\"0\"\n",
       "            allowfullscreen\n",
       "        ></iframe>\n",
       "        "
      ],
      "text/plain": [
       "<IPython.lib.display.IFrame at 0x7f9edd9a27b8>"
      ]
     },
     "execution_count": 8,
     "metadata": {},
     "output_type": "execute_result"
    }
   ],
   "source": [
    "from IPython.display import IFrame\n",
    "IFrame('https://demo.bokehplots.com/apps/sliders/', width=900, height=410)"
   ]
  },
  {
   "cell_type": "markdown",
   "metadata": {},
   "source": [
    "Click on any of the thumbnails below to launch other live Bokeh applications.\n",
    "\n",
    "<center>\n",
    "<a href=\"https://demo.bokehplots.com/apps/crossfilter\">\n",
    "  <img \n",
    "    width=\"30%\" height=\"30%\" style=\"display: inline ; padding: 10px;\" \n",
    "    src=\"https://bokeh.pydata.org/static/crossfilter_t.png\"\n",
    "  >\n",
    "</a>\n",
    "\n",
    "<a href=\"https://demo.bokehplots.com/apps/movies\">\n",
    "  <img \n",
    "    width=\"30%\" height=\"30%\" style=\"display: inline ; padding: 10px;\" \n",
    "    src=\"https://bokeh.pydata.org/static/movies_t.png\" \n",
    "  >\n",
    "</a>\n",
    "\n",
    "<a href=\"https://demo.bokehplots.com/apps/gapminder\">\n",
    "  <img \n",
    "    width=\"30%\" height=\"30%\" style=\"display: inline ; padding: 10px;\" \n",
    "    src=\"http://bokeh.pydata.org/static/gapminder_t.png\"\n",
    "  >\n",
    "</a>\n",
    "</center>\n",
    "\n",
    "Find more details and information about developing and deploying Bokeh server applications in the User's Guide chapter [Running a Bokeh Server](https://bokeh.pydata.org/en/latest/docs/user_guide/server.html)."
   ]
  },
  {
   "cell_type": "markdown",
   "metadata": {},
   "source": [
    "## BokehJS\n",
    "\n",
    "At its core, Bokeh consists of a Javascript library, [BokehJS](https://github.com/bokeh/bokeh/tree/master/bokehjs), and a Python binding which provides classes and objects that ultimately generate a JSON representation of the plot structure.\n",
    "\n",
    "You can read more about design and usage in the [Developing with JavaScript](https://bokeh.pydata.org/en/latest/docs/user_guide/bokehjs.html) section of the Bokeh User's Guide."
   ]
  },
  {
   "cell_type": "markdown",
   "metadata": {},
   "source": [
    "## More Information\n",
    "\n",
    "Find more details and information at the resources listed below:\n",
    "\n",
    "*Documentation:* https://bokeh.pydata.org/en/latest\n",
    "\n",
    "*GitHub:* https://github.com/bokeh/bokeh\n",
    "\n",
    "*Mailing list:* [bokeh@anaconda.com](mailto:bokeh@anaconda.com)\n",
    "\n",
    "*Gitter Chat:* https://gitter.im/bokeh/bokeh\n",
    "\n",
    "Be sure to follow us on Twitter [@bokehplots](http://twitter.com/BokehPlots>) and on [Youtube](https://www.youtube.com/c/Bokehplots)!\n",
    "\n",
    "<img src=\"../images/bokeh-transparent.png\" width=\"64px\" height=\"64px\">"
   ]
  },
  {
   "cell_type": "code",
   "execution_count": null,
   "metadata": {},
   "outputs": [],
   "source": []
  }
 ],
 "metadata": {
  "kernelspec": {
   "display_name": "Python 3",
   "language": "python",
   "name": "python3"
  },
  "language_info": {
   "codemirror_mode": {
    "name": "ipython",
    "version": 3
   },
   "file_extension": ".py",
   "mimetype": "text/x-python",
   "name": "python",
   "nbconvert_exporter": "python",
   "pygments_lexer": "ipython3",
   "version": "3.5.2"
  }
 },
 "nbformat": 4,
 "nbformat_minor": 1
}
