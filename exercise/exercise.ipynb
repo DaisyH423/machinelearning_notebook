{
 "cells": [
  {
   "cell_type": "markdown",
   "metadata": {},
   "source": [
    "# Python & Machine Learning Exercises"
   ]
  },
  {
   "cell_type": "markdown",
   "metadata": {},
   "source": [
    "## Python\n",
    "\n",
    "###  （1）字符串\n",
    "给定一个文章，找出每个单词的出现次数\n",
    "\n",
    "```\n",
    "One is always on a strange road, watching strange scenery and listening to strange music. Then one day, you will find that the things you try hard to forget are already gone. \n",
    "```\n",
    "\n",
    "### （2）组合\n",
    "有 1、2、3、4 个数字，能组成多少个互不相同且无重复数字的三位数？都是多少？\n",
    "\n",
    "\n",
    "### （3） 判断\n",
    "企业发放的奖金根据利润提成。利润(I)： \n",
    "* 低于或等于 10 万元时，奖金可提 10%； \n",
    "* 高于 10 万元，低于 20 万元时，低于 10 万元的部分按 10%提成，高于 10 万元的部分，可提成 7.5%； \n",
    "* 20 万到 40 万之间时，高于 20 万元的部分，可提成 5%； \n",
    "* 40 万到 60 万之间时，高于 40 万元的部分，可提成 3%； \n",
    "* 60 万到 100 万之间时，高于 60 万元的部分，可提成 1.5%， \n",
    "* 高于 100 万元时， 超过 100 万元的部分按 1%提成， \n",
    "从键盘输入当月利润 I，求应发放奖金总数？\n",
    "\n",
    "### （4）循环\n",
    "输出9x9的乘法口诀表\n",
    "\n",
    "### （5）算法\n",
    "给一个数字列表，将其按照由大到小的顺序排列\n",
    "\n",
    "例如\n",
    "```\n",
    "1, 10, 4, 2, 9, 2, 34, 5, 9, 8, 5, 0\n",
    "```\n",
    "\n",
    "### （6）应用1\n",
    "做为 Apple Store App 独立开发者，你要搞限时促销，为你的应用生成激活码（或者优惠券），使用 Python 如何生成 200 个激活码（或者优惠券）？\n",
    "\n",
    "需要考虑什么是激活码？有什么特性？例如`KR603guyVvR`是一个激活码\n",
    "\n",
    "### （7）应用2\n",
    "需要把某个目录下面所有的某种类型的文件找到。\n",
    "例如把`c:`下面所有的`.dll`文件找到\n",
    "\n",
    "### （8）应用3\n",
    "你有个目录，里面是程序（假如是C或者是Python），统计一下你写过多少行代码。包括空行和注释，但是要分别列出来。\n",
    "\n"
   ]
  },
  {
   "cell_type": "markdown",
   "metadata": {},
   "source": [
    "## 数值计算\n",
    "\n",
    "\n",
    "### （1）对于一个存在在数组，如何添加一个用0填充的边界?\n",
    "例如对一个二维矩阵\n",
    "```\n",
    "10, 34, 54, 23\n",
    "31, 87, 53, 68\n",
    "98, 49, 25, 11\n",
    "84, 32, 67, 88\n",
    "```\n",
    "\n",
    "变换成\n",
    "```\n",
    " 0,  0,  0,  0,  0, 0\n",
    " 0, 10, 34, 54, 23, 0\n",
    " 0, 31, 87, 53, 68, 0\n",
    " 0, 98, 49, 25, 11, 0\n",
    " 0, 84, 32, 67, 88, 0\n",
    " 0,  0,  0,  0,  0, 0\n",
    "```\n",
    "\n",
    "### （2） 创建一个 5x5的矩阵，并设置值1,2,3,4落在其对角线下方位置\n",
    "\n",
    "\n",
    "### （3） 创建一个8x8 的矩阵，并且设置成棋盘样式\n",
    "\n",
    "\n",
    "### （4）求解线性方程组\n",
    "\n",
    "给定一个方程组，如何求出其的方程解。有多种方法，分析各种方法的优缺点（最简单的方式是消元方）。\n",
    "\n",
    "例如\n",
    "```\n",
    "3x + 4y + 2z = 10\n",
    "5x + 3y + 4z = 14\n",
    "8x + 2y + 7z = 20\n",
    "```\n",
    "\n",
    "编程写出求解的程序\n"
   ]
  },
  {
   "cell_type": "code",
   "execution_count": null,
   "metadata": {},
   "outputs": [],
   "source": []
  }
 ],
 "metadata": {
  "kernelspec": {
   "display_name": "Python 3",
   "language": "python",
   "name": "python3"
  },
  "language_info": {
   "codemirror_mode": {
    "name": "ipython",
    "version": 3
   },
   "file_extension": ".py",
   "mimetype": "text/x-python",
   "name": "python",
   "nbconvert_exporter": "python",
   "pygments_lexer": "ipython3",
   "version": "3.5.2"
  }
 },
 "nbformat": 4,
 "nbformat_minor": 2
}
