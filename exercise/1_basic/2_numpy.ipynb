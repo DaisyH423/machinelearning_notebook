{
 "cells": [
  {
   "cell_type": "markdown",
   "metadata": {},
   "source": [
    "## 数值计算\n",
    "\n",
    "\n",
    "### （1）对于一个存在在数组，如何添加一个用0填充的边界?\n",
    "例如对一个二维矩阵\n",
    "```\n",
    "10, 34, 54, 23\n",
    "31, 87, 53, 68\n",
    "98, 49, 25, 11\n",
    "84, 32, 67, 88\n",
    "```\n",
    "\n",
    "变换成\n",
    "```\n",
    " 0,  0,  0,  0,  0, 0\n",
    " 0, 10, 34, 54, 23, 0\n",
    " 0, 31, 87, 53, 68, 0\n",
    " 0, 98, 49, 25, 11, 0\n",
    " 0, 84, 32, 67, 88, 0\n",
    " 0,  0,  0,  0,  0, 0\n",
    "```\n",
    "\n",
    "### （2） 创建一个 5x5的矩阵，并设置值1,2,3,4落在其对角线下方位置\n",
    "\n",
    "\n",
    "### （3） 创建一个8x8 的矩阵，并且设置成国际象棋棋盘样式（黑可以用0, 白可以用1）\n",
    "\n",
    "\n",
    "### （4）求解线性方程组\n",
    "\n",
    "给定一个方程组，如何求出其的方程解。有多种方法，分析各种方法的优缺点（最简单的方式是消元方）。\n",
    "\n",
    "例如\n",
    "```\n",
    "3x + 4y + 2z = 10\n",
    "5x + 3y + 4z = 14\n",
    "8x + 2y + 7z = 20\n",
    "```\n",
    "\n",
    "编程写出求解的程序\n",
    "\n",
    "\n",
    "### （5） 翻转一个数组（第一个元素变成最后一个）\n",
    "\n",
    "\n",
    "### （6） 产生一个十乘十随机数组，并且找出最大和最小值\n",
    "\n",
    "\n",
    "## Reference\n",
    "* [100 numpy exercises](https://github.com/rougier/numpy-100)"
   ]
  }
 ],
 "metadata": {
  "kernelspec": {
   "display_name": "Python 3",
   "language": "python",
   "name": "python3"
  },
  "language_info": {
   "codemirror_mode": {
    "name": "ipython",
    "version": 3
   },
   "file_extension": ".py",
   "mimetype": "text/x-python",
   "name": "python",
   "nbconvert_exporter": "python",
   "pygments_lexer": "ipython3",
   "version": "3.5.2"
  },
  "main_language": "python"
 },
 "nbformat": 4,
 "nbformat_minor": 2
}
